{
 "cells": [
  {
   "cell_type": "markdown",
   "metadata": {},
   "source": [
    "Analysis of Covid Vaccination data"
   ]
  },
  {
   "cell_type": "code",
   "execution_count": 2,
   "metadata": {},
   "outputs": [],
   "source": [
    "# importing nesscary libary"
   ]
  },
  {
   "cell_type": "code",
   "execution_count": 3,
   "metadata": {},
   "outputs": [],
   "source": [
    "import pandas as pd\n",
    "from matplotlib import pyplot as plt\n",
    "import seaborn as sns"
   ]
  },
  {
   "cell_type": "code",
   "execution_count": 4,
   "metadata": {},
   "outputs": [],
   "source": [
    "df=pd.read_csv(\"Vaccine_Data.csv\")"
   ]
  },
  {
   "cell_type": "code",
   "execution_count": 5,
   "metadata": {},
   "outputs": [
    {
     "data": {
      "text/html": [
       "<div>\n",
       "<style scoped>\n",
       "    .dataframe tbody tr th:only-of-type {\n",
       "        vertical-align: middle;\n",
       "    }\n",
       "\n",
       "    .dataframe tbody tr th {\n",
       "        vertical-align: top;\n",
       "    }\n",
       "\n",
       "    .dataframe thead th {\n",
       "        text-align: right;\n",
       "    }\n",
       "</style>\n",
       "<table border=\"1\" class=\"dataframe\">\n",
       "  <thead>\n",
       "    <tr style=\"text-align: right;\">\n",
       "      <th></th>\n",
       "      <th>State/UTs</th>\n",
       "      <th>Total Vaccination Doses</th>\n",
       "      <th>Dose 1</th>\n",
       "      <th>Dose 2</th>\n",
       "      <th>Population</th>\n",
       "    </tr>\n",
       "  </thead>\n",
       "  <tbody>\n",
       "    <tr>\n",
       "      <th>0</th>\n",
       "      <td>Andaman and Nicobar</td>\n",
       "      <td>376550</td>\n",
       "      <td>265589</td>\n",
       "      <td>110961</td>\n",
       "      <td>399001</td>\n",
       "    </tr>\n",
       "    <tr>\n",
       "      <th>1</th>\n",
       "      <td>Andhra Pradesh</td>\n",
       "      <td>32258985</td>\n",
       "      <td>22780838</td>\n",
       "      <td>9478147</td>\n",
       "      <td>91702478</td>\n",
       "    </tr>\n",
       "    <tr>\n",
       "      <th>2</th>\n",
       "      <td>Arunachal Pradesh</td>\n",
       "      <td>1008283</td>\n",
       "      <td>735800</td>\n",
       "      <td>272483</td>\n",
       "      <td>1711947</td>\n",
       "    </tr>\n",
       "    <tr>\n",
       "      <th>3</th>\n",
       "      <td>Assam</td>\n",
       "      <td>19259207</td>\n",
       "      <td>15757069</td>\n",
       "      <td>3502138</td>\n",
       "      <td>35998752</td>\n",
       "    </tr>\n",
       "    <tr>\n",
       "      <th>4</th>\n",
       "      <td>Bihar</td>\n",
       "      <td>42928375</td>\n",
       "      <td>35540837</td>\n",
       "      <td>7387538</td>\n",
       "      <td>128500364</td>\n",
       "    </tr>\n",
       "  </tbody>\n",
       "</table>\n",
       "</div>"
      ],
      "text/plain": [
       "             State/UTs  Total Vaccination Doses    Dose 1   Dose 2  Population\n",
       "0  Andaman and Nicobar                   376550    265589   110961      399001\n",
       "1       Andhra Pradesh                 32258985  22780838  9478147    91702478\n",
       "2    Arunachal Pradesh                  1008283    735800   272483     1711947\n",
       "3                Assam                 19259207  15757069  3502138    35998752\n",
       "4                Bihar                 42928375  35540837  7387538   128500364"
      ]
     },
     "execution_count": 5,
     "metadata": {},
     "output_type": "execute_result"
    }
   ],
   "source": [
    "df.head()"
   ]
  },
  {
   "cell_type": "code",
   "execution_count": 6,
   "metadata": {},
   "outputs": [
    {
     "data": {
      "text/html": [
       "<div>\n",
       "<style scoped>\n",
       "    .dataframe tbody tr th:only-of-type {\n",
       "        vertical-align: middle;\n",
       "    }\n",
       "\n",
       "    .dataframe tbody tr th {\n",
       "        vertical-align: top;\n",
       "    }\n",
       "\n",
       "    .dataframe thead th {\n",
       "        text-align: right;\n",
       "    }\n",
       "</style>\n",
       "<table border=\"1\" class=\"dataframe\">\n",
       "  <thead>\n",
       "    <tr style=\"text-align: right;\">\n",
       "      <th></th>\n",
       "      <th>Total Vaccination Doses</th>\n",
       "      <th>Dose 1</th>\n",
       "      <th>Dose 2</th>\n",
       "      <th>Population</th>\n",
       "    </tr>\n",
       "  </thead>\n",
       "  <tbody>\n",
       "    <tr>\n",
       "      <th>count</th>\n",
       "      <td>3.600000e+01</td>\n",
       "      <td>3.600000e+01</td>\n",
       "      <td>3.600000e+01</td>\n",
       "      <td>3.600000e+01</td>\n",
       "    </tr>\n",
       "    <tr>\n",
       "      <th>mean</th>\n",
       "      <td>1.980942e+07</td>\n",
       "      <td>1.513874e+07</td>\n",
       "      <td>4.670679e+06</td>\n",
       "      <td>3.971861e+07</td>\n",
       "    </tr>\n",
       "    <tr>\n",
       "      <th>std</th>\n",
       "      <td>2.187314e+07</td>\n",
       "      <td>1.711077e+07</td>\n",
       "      <td>5.021122e+06</td>\n",
       "      <td>5.050913e+07</td>\n",
       "    </tr>\n",
       "    <tr>\n",
       "      <th>min</th>\n",
       "      <td>8.183100e+04</td>\n",
       "      <td>5.319100e+04</td>\n",
       "      <td>2.864000e+04</td>\n",
       "      <td>6.600100e+04</td>\n",
       "    </tr>\n",
       "    <tr>\n",
       "      <th>25%</th>\n",
       "      <td>1.137086e+06</td>\n",
       "      <td>8.130222e+05</td>\n",
       "      <td>3.216258e+05</td>\n",
       "      <td>1.695473e+06</td>\n",
       "    </tr>\n",
       "    <tr>\n",
       "      <th>50%</th>\n",
       "      <td>1.450973e+07</td>\n",
       "      <td>1.080274e+07</td>\n",
       "      <td>3.240516e+06</td>\n",
       "      <td>2.410088e+07</td>\n",
       "    </tr>\n",
       "    <tr>\n",
       "      <th>75%</th>\n",
       "      <td>3.328564e+07</td>\n",
       "      <td>2.434081e+07</td>\n",
       "      <td>7.661006e+06</td>\n",
       "      <td>6.979986e+07</td>\n",
       "    </tr>\n",
       "    <tr>\n",
       "      <th>max</th>\n",
       "      <td>8.349287e+07</td>\n",
       "      <td>6.982236e+07</td>\n",
       "      <td>1.798615e+07</td>\n",
       "      <td>2.315026e+08</td>\n",
       "    </tr>\n",
       "  </tbody>\n",
       "</table>\n",
       "</div>"
      ],
      "text/plain": [
       "       Total Vaccination Doses        Dose 1        Dose 2    Population\n",
       "count             3.600000e+01  3.600000e+01  3.600000e+01  3.600000e+01\n",
       "mean              1.980942e+07  1.513874e+07  4.670679e+06  3.971861e+07\n",
       "std               2.187314e+07  1.711077e+07  5.021122e+06  5.050913e+07\n",
       "min               8.183100e+04  5.319100e+04  2.864000e+04  6.600100e+04\n",
       "25%               1.137086e+06  8.130222e+05  3.216258e+05  1.695473e+06\n",
       "50%               1.450973e+07  1.080274e+07  3.240516e+06  2.410088e+07\n",
       "75%               3.328564e+07  2.434081e+07  7.661006e+06  6.979986e+07\n",
       "max               8.349287e+07  6.982236e+07  1.798615e+07  2.315026e+08"
      ]
     },
     "execution_count": 6,
     "metadata": {},
     "output_type": "execute_result"
    }
   ],
   "source": [
    "df.describe()"
   ]
  },
  {
   "cell_type": "code",
   "execution_count": 7,
   "metadata": {},
   "outputs": [
    {
     "data": {
      "text/html": [
       "<div>\n",
       "<style scoped>\n",
       "    .dataframe tbody tr th:only-of-type {\n",
       "        vertical-align: middle;\n",
       "    }\n",
       "\n",
       "    .dataframe tbody tr th {\n",
       "        vertical-align: top;\n",
       "    }\n",
       "\n",
       "    .dataframe thead th {\n",
       "        text-align: right;\n",
       "    }\n",
       "</style>\n",
       "<table border=\"1\" class=\"dataframe\">\n",
       "  <thead>\n",
       "    <tr style=\"text-align: right;\">\n",
       "      <th></th>\n",
       "      <th>State/UTs</th>\n",
       "      <th>Total Vaccination Doses</th>\n",
       "      <th>Dose 1</th>\n",
       "      <th>Dose 2</th>\n",
       "      <th>Population</th>\n",
       "    </tr>\n",
       "  </thead>\n",
       "  <tbody>\n",
       "    <tr>\n",
       "      <th>31</th>\n",
       "      <td>Telangana</td>\n",
       "      <td>19075649</td>\n",
       "      <td>13972953</td>\n",
       "      <td>5102696</td>\n",
       "      <td>38157311</td>\n",
       "    </tr>\n",
       "    <tr>\n",
       "      <th>32</th>\n",
       "      <td>Tripura</td>\n",
       "      <td>3384487</td>\n",
       "      <td>2468108</td>\n",
       "      <td>916379</td>\n",
       "      <td>4184959</td>\n",
       "    </tr>\n",
       "    <tr>\n",
       "      <th>33</th>\n",
       "      <td>Uttar Pradesh</td>\n",
       "      <td>83492874</td>\n",
       "      <td>69822355</td>\n",
       "      <td>13670519</td>\n",
       "      <td>231502578</td>\n",
       "    </tr>\n",
       "    <tr>\n",
       "      <th>34</th>\n",
       "      <td>Uttarakhand</td>\n",
       "      <td>9129241</td>\n",
       "      <td>6875064</td>\n",
       "      <td>2254177</td>\n",
       "      <td>11700099</td>\n",
       "    </tr>\n",
       "    <tr>\n",
       "      <th>35</th>\n",
       "      <td>West Bengal</td>\n",
       "      <td>45378377</td>\n",
       "      <td>32522234</td>\n",
       "      <td>12856143</td>\n",
       "      <td>100896618</td>\n",
       "    </tr>\n",
       "  </tbody>\n",
       "</table>\n",
       "</div>"
      ],
      "text/plain": [
       "        State/UTs  Total Vaccination Doses    Dose 1    Dose 2  Population\n",
       "31      Telangana                 19075649  13972953   5102696    38157311\n",
       "32        Tripura                  3384487   2468108    916379     4184959\n",
       "33  Uttar Pradesh                 83492874  69822355  13670519   231502578\n",
       "34    Uttarakhand                  9129241   6875064   2254177    11700099\n",
       "35    West Bengal                 45378377  32522234  12856143   100896618"
      ]
     },
     "execution_count": 7,
     "metadata": {},
     "output_type": "execute_result"
    }
   ],
   "source": [
    "df.tail()"
   ]
  },
  {
   "cell_type": "code",
   "execution_count": 8,
   "metadata": {},
   "outputs": [
    {
     "data": {
      "text/plain": [
       "36"
      ]
     },
     "execution_count": 8,
     "metadata": {},
     "output_type": "execute_result"
    }
   ],
   "source": [
    "df[\"Dose 1\"].count()"
   ]
  },
  {
   "cell_type": "code",
   "execution_count": 9,
   "metadata": {},
   "outputs": [
    {
     "data": {
      "text/plain": [
       "(36, 5)"
      ]
     },
     "execution_count": 9,
     "metadata": {},
     "output_type": "execute_result"
    }
   ],
   "source": [
    "df.shape  "
   ]
  },
  {
   "cell_type": "code",
   "execution_count": 10,
   "metadata": {},
   "outputs": [
    {
     "data": {
      "text/plain": [
       "544994806"
      ]
     },
     "execution_count": 10,
     "metadata": {},
     "output_type": "execute_result"
    }
   ],
   "source": [
    "df[\"Dose 1\"].sum()"
   ]
  },
  {
   "cell_type": "code",
   "execution_count": 11,
   "metadata": {},
   "outputs": [
    {
     "data": {
      "text/plain": [
       "168144437"
      ]
     },
     "execution_count": 11,
     "metadata": {},
     "output_type": "execute_result"
    }
   ],
   "source": [
    "df[\"Dose 2\"].sum()"
   ]
  },
  {
   "cell_type": "code",
   "execution_count": 12,
   "metadata": {},
   "outputs": [],
   "source": [
    "# Getting Name of State and Ut"
   ]
  },
  {
   "cell_type": "code",
   "execution_count": 13,
   "metadata": {},
   "outputs": [
    {
     "data": {
      "text/plain": [
       "Index(['State/UTs', 'Total Vaccination Doses', 'Dose 1', 'Dose 2',\n",
       "       'Population'],\n",
       "      dtype='object')"
      ]
     },
     "execution_count": 13,
     "metadata": {},
     "output_type": "execute_result"
    }
   ],
   "source": [
    "df.columns"
   ]
  },
  {
   "cell_type": "code",
   "execution_count": 14,
   "metadata": {},
   "outputs": [
    {
     "data": {
      "text/plain": [
       "0                          Andaman and Nicobar\n",
       "1                               Andhra Pradesh\n",
       "2                            Arunachal Pradesh\n",
       "3                                        Assam\n",
       "4                                        Bihar\n",
       "5                                   Chandigarh\n",
       "6                                 Chhattisgarh\n",
       "7     Dadra and Nagar Haveli and Daman and Diu\n",
       "8                                        Delhi\n",
       "9                                          Goa\n",
       "10                                     Gujarat\n",
       "11                                     Haryana\n",
       "12                            Himachal Pradesh\n",
       "13                           Jammu and Kashmir\n",
       "14                                   Jharkhand\n",
       "15                                   Karnataka\n",
       "16                                      Kerala\n",
       "17                                      Ladakh\n",
       "18                                 Lakshadweep\n",
       "19                              Madhya Pradesh\n",
       "20                                 Maharashtra\n",
       "21                                     Manipur\n",
       "22                                   Meghalaya\n",
       "23                                     Mizoram\n",
       "24                                    Nagaland\n",
       "25                                      Odisha\n",
       "26                                  Puducherry\n",
       "27                                      Punjab\n",
       "28                                   Rajasthan\n",
       "29                                      Sikkim\n",
       "30                                  Tamil Nadu\n",
       "31                                   Telangana\n",
       "32                                     Tripura\n",
       "33                               Uttar Pradesh\n",
       "34                                 Uttarakhand\n",
       "35                                 West Bengal\n",
       "Name: State/UTs, dtype: object"
      ]
     },
     "execution_count": 14,
     "metadata": {},
     "output_type": "execute_result"
    }
   ],
   "source": [
    "df[\"State/UTs\"]"
   ]
  },
  {
   "cell_type": "code",
   "execution_count": 15,
   "metadata": {},
   "outputs": [],
   "source": [
    "#Analysing With respect to TotalVaccine"
   ]
  },
  {
   "cell_type": "code",
   "execution_count": 16,
   "metadata": {},
   "outputs": [],
   "source": [
    "# Getting State With Max Vaccine"
   ]
  },
  {
   "cell_type": "code",
   "execution_count": 17,
   "metadata": {},
   "outputs": [],
   "source": [
    "m=max(df[\"Total Vaccination Doses\"])"
   ]
  },
  {
   "cell_type": "code",
   "execution_count": 18,
   "metadata": {},
   "outputs": [
    {
     "data": {
      "text/html": [
       "<div>\n",
       "<style scoped>\n",
       "    .dataframe tbody tr th:only-of-type {\n",
       "        vertical-align: middle;\n",
       "    }\n",
       "\n",
       "    .dataframe tbody tr th {\n",
       "        vertical-align: top;\n",
       "    }\n",
       "\n",
       "    .dataframe thead th {\n",
       "        text-align: right;\n",
       "    }\n",
       "</style>\n",
       "<table border=\"1\" class=\"dataframe\">\n",
       "  <thead>\n",
       "    <tr style=\"text-align: right;\">\n",
       "      <th></th>\n",
       "      <th>State/UTs</th>\n",
       "      <th>Total Vaccination Doses</th>\n",
       "      <th>Dose 1</th>\n",
       "      <th>Dose 2</th>\n",
       "      <th>Population</th>\n",
       "    </tr>\n",
       "  </thead>\n",
       "  <tbody>\n",
       "    <tr>\n",
       "      <th>33</th>\n",
       "      <td>Uttar Pradesh</td>\n",
       "      <td>83492874</td>\n",
       "      <td>69822355</td>\n",
       "      <td>13670519</td>\n",
       "      <td>231502578</td>\n",
       "    </tr>\n",
       "  </tbody>\n",
       "</table>\n",
       "</div>"
      ],
      "text/plain": [
       "        State/UTs  Total Vaccination Doses    Dose 1    Dose 2  Population\n",
       "33  Uttar Pradesh                 83492874  69822355  13670519   231502578"
      ]
     },
     "execution_count": 18,
     "metadata": {},
     "output_type": "execute_result"
    }
   ],
   "source": [
    "df[df[ \"Total Vaccination Doses\"]==m]"
   ]
  },
  {
   "cell_type": "code",
   "execution_count": 19,
   "metadata": {},
   "outputs": [
    {
     "data": {
      "text/plain": [
       "19809423.416666668"
      ]
     },
     "execution_count": 19,
     "metadata": {},
     "output_type": "execute_result"
    }
   ],
   "source": [
    "df[\"Total Vaccination Doses\"].mean()"
   ]
  },
  {
   "cell_type": "code",
   "execution_count": 20,
   "metadata": {},
   "outputs": [
    {
     "data": {
      "text/plain": [
       "count    3.600000e+01\n",
       "mean     1.980942e+07\n",
       "std      2.187314e+07\n",
       "min      8.183100e+04\n",
       "25%      1.137086e+06\n",
       "50%      1.450973e+07\n",
       "75%      3.328564e+07\n",
       "max      8.349287e+07\n",
       "Name: Total Vaccination Doses, dtype: float64"
      ]
     },
     "execution_count": 20,
     "metadata": {},
     "output_type": "execute_result"
    }
   ],
   "source": [
    "df[\"Total Vaccination Doses\"].describe()"
   ]
  },
  {
   "cell_type": "code",
   "execution_count": 21,
   "metadata": {},
   "outputs": [],
   "source": [
    "total_Vac=df.sort_values(\"Total Vaccination Doses\",ascending=False)"
   ]
  },
  {
   "cell_type": "code",
   "execution_count": 22,
   "metadata": {},
   "outputs": [
    {
     "data": {
      "text/plain": [
       "<matplotlib.axes._subplots.AxesSubplot at 0x9986c10>"
      ]
     },
     "execution_count": 22,
     "metadata": {},
     "output_type": "execute_result"
    },
    {
     "data": {
      "image/png": "[encoded data removed]",
      "text/plain": [
       "<Figure size 432x288 with 1 Axes>"
      ]
     },
     "metadata": {
      "needs_background": "light"
     },
     "output_type": "display_data"
    }
   ],
   "source": [
    "sns.distplot(df['Total Vaccination Doses'])"
   ]
  },
  {
   "cell_type": "code",
   "execution_count": 23,
   "metadata": {},
   "outputs": [
    {
     "data": {
      "text/plain": [
       "<matplotlib.axes._subplots.AxesSubplot at 0x9955e10>"
      ]
     },
     "execution_count": 23,
     "metadata": {},
     "output_type": "execute_result"
    },
    {
     "data": {
      "image/png": "[encoded data removed]",
      "text/plain": [
       "<Figure size 432x288 with 1 Axes>"
      ]
     },
     "metadata": {
      "needs_background": "light"
     },
     "output_type": "display_data"
    }
   ],
   "source": [
    "sns.distplot(df[\"Total Vaccination Doses\"],hist=False)"
   ]
  },
  {
   "cell_type": "code",
   "execution_count": 24,
   "metadata": {},
   "outputs": [
    {
     "data": {
      "text/plain": [
       "<matplotlib.axes._subplots.AxesSubplot at 0xa0f1cb0>"
      ]
     },
     "execution_count": 24,
     "metadata": {},
     "output_type": "execute_result"
    },
    {
     "data": {
      "image/png": "[encoded data removed]",
      "text/plain": [
       "<Figure size 432x288 with 1 Axes>"
      ]
     },
     "metadata": {
      "needs_background": "light"
     },
     "output_type": "display_data"
    }
   ],
   "source": [
    "sns.scatterplot(x=df[\"Population\"], y=df[\"Total Vaccination Doses\"],\n",
    "                palette=\"ch:r=-.2,d=.3_r\",data=df)"
   ]
  },
  {
   "cell_type": "code",
   "execution_count": 25,
   "metadata": {},
   "outputs": [
    {
     "data": {
      "text/html": [
       "<div>\n",
       "<style scoped>\n",
       "    .dataframe tbody tr th:only-of-type {\n",
       "        vertical-align: middle;\n",
       "    }\n",
       "\n",
       "    .dataframe tbody tr th {\n",
       "        vertical-align: top;\n",
       "    }\n",
       "\n",
       "    .dataframe thead th {\n",
       "        text-align: right;\n",
       "    }\n",
       "</style>\n",
       "<table border=\"1\" class=\"dataframe\">\n",
       "  <thead>\n",
       "    <tr style=\"text-align: right;\">\n",
       "      <th></th>\n",
       "      <th>State/UTs</th>\n",
       "      <th>Total Vaccination Doses</th>\n",
       "      <th>Dose 1</th>\n",
       "      <th>Dose 2</th>\n",
       "      <th>Population</th>\n",
       "    </tr>\n",
       "  </thead>\n",
       "  <tbody>\n",
       "    <tr>\n",
       "      <th>33</th>\n",
       "      <td>Uttar Pradesh</td>\n",
       "      <td>83492874</td>\n",
       "      <td>69822355</td>\n",
       "      <td>13670519</td>\n",
       "      <td>231502578</td>\n",
       "    </tr>\n",
       "    <tr>\n",
       "      <th>20</th>\n",
       "      <td>Maharashtra</td>\n",
       "      <td>65581976</td>\n",
       "      <td>47595826</td>\n",
       "      <td>17986150</td>\n",
       "      <td>124904071</td>\n",
       "    </tr>\n",
       "    <tr>\n",
       "      <th>10</th>\n",
       "      <td>Gujarat</td>\n",
       "      <td>50873185</td>\n",
       "      <td>37390654</td>\n",
       "      <td>13482531</td>\n",
       "      <td>70400153</td>\n",
       "    </tr>\n",
       "    <tr>\n",
       "      <th>19</th>\n",
       "      <td>Madhya Pradesh</td>\n",
       "      <td>50160067</td>\n",
       "      <td>40761568</td>\n",
       "      <td>9398499</td>\n",
       "      <td>85002417</td>\n",
       "    </tr>\n",
       "    <tr>\n",
       "      <th>28</th>\n",
       "      <td>Rajasthan</td>\n",
       "      <td>48203186</td>\n",
       "      <td>36186863</td>\n",
       "      <td>12016323</td>\n",
       "      <td>79502477</td>\n",
       "    </tr>\n",
       "  </tbody>\n",
       "</table>\n",
       "</div>"
      ],
      "text/plain": [
       "         State/UTs  Total Vaccination Doses    Dose 1    Dose 2  Population\n",
       "33   Uttar Pradesh                 83492874  69822355  13670519   231502578\n",
       "20     Maharashtra                 65581976  47595826  17986150   124904071\n",
       "10         Gujarat                 50873185  37390654  13482531    70400153\n",
       "19  Madhya Pradesh                 50160067  40761568   9398499    85002417\n",
       "28       Rajasthan                 48203186  36186863  12016323    79502477"
      ]
     },
     "execution_count": 25,
     "metadata": {},
     "output_type": "execute_result"
    }
   ],
   "source": [
    "total_Vac[:5]"
   ]
  },
  {
   "cell_type": "code",
   "execution_count": 26,
   "metadata": {},
   "outputs": [
    {
     "data": {
      "text/plain": [
       "<matplotlib.axes._subplots.AxesSubplot at 0xa13f5d0>"
      ]
     },
     "execution_count": 26,
     "metadata": {},
     "output_type": "execute_result"
    },
    {
     "data": {
      "image/png": "[encoded data removed]",
      "text/plain": [
       "<Figure size 432x288 with 1 Axes>"
      ]
     },
     "metadata": {
      "needs_background": "light"
     },
     "output_type": "display_data"
    }
   ],
   "source": [
    "sns.barplot(total_Vac[\"State/UTs\"][:5],total_Vac[\"Total Vaccination Doses\"][:5])"
   ]
  },
  {
   "cell_type": "code",
   "execution_count": 27,
   "metadata": {},
   "outputs": [
    {
     "data": {
      "text/html": [
       "<div>\n",
       "<style scoped>\n",
       "    .dataframe tbody tr th:only-of-type {\n",
       "        vertical-align: middle;\n",
       "    }\n",
       "\n",
       "    .dataframe tbody tr th {\n",
       "        vertical-align: top;\n",
       "    }\n",
       "\n",
       "    .dataframe thead th {\n",
       "        text-align: right;\n",
       "    }\n",
       "</style>\n",
       "<table border=\"1\" class=\"dataframe\">\n",
       "  <thead>\n",
       "    <tr style=\"text-align: right;\">\n",
       "      <th></th>\n",
       "      <th>State/UTs</th>\n",
       "      <th>Total Vaccination Doses</th>\n",
       "      <th>Dose 1</th>\n",
       "      <th>Dose 2</th>\n",
       "      <th>Population</th>\n",
       "    </tr>\n",
       "  </thead>\n",
       "  <tbody>\n",
       "    <tr>\n",
       "      <th>29</th>\n",
       "      <td>Sikkim</td>\n",
       "      <td>722283</td>\n",
       "      <td>509903</td>\n",
       "      <td>212380</td>\n",
       "      <td>658019</td>\n",
       "    </tr>\n",
       "    <tr>\n",
       "      <th>0</th>\n",
       "      <td>Andaman and Nicobar</td>\n",
       "      <td>376550</td>\n",
       "      <td>265589</td>\n",
       "      <td>110961</td>\n",
       "      <td>399001</td>\n",
       "    </tr>\n",
       "    <tr>\n",
       "      <th>17</th>\n",
       "      <td>Ladakh</td>\n",
       "      <td>312552</td>\n",
       "      <td>196554</td>\n",
       "      <td>115998</td>\n",
       "      <td>290492</td>\n",
       "    </tr>\n",
       "    <tr>\n",
       "      <th>18</th>\n",
       "      <td>Lakshadweep</td>\n",
       "      <td>81831</td>\n",
       "      <td>53191</td>\n",
       "      <td>28640</td>\n",
       "      <td>66001</td>\n",
       "    </tr>\n",
       "  </tbody>\n",
       "</table>\n",
       "</div>"
      ],
      "text/plain": [
       "              State/UTs  Total Vaccination Doses  Dose 1  Dose 2  Population\n",
       "29               Sikkim                   722283  509903  212380      658019\n",
       "0   Andaman and Nicobar                   376550  265589  110961      399001\n",
       "17               Ladakh                   312552  196554  115998      290492\n",
       "18          Lakshadweep                    81831   53191   28640       66001"
      ]
     },
     "execution_count": 27,
     "metadata": {},
     "output_type": "execute_result"
    }
   ],
   "source": [
    "total_Vac[32:37]"
   ]
  },
  {
   "cell_type": "code",
   "execution_count": 28,
   "metadata": {},
   "outputs": [
    {
     "data": {
      "text/plain": [
       "<matplotlib.axes._subplots.AxesSubplot at 0xa198130>"
      ]
     },
     "execution_count": 28,
     "metadata": {},
     "output_type": "execute_result"
    },
    {
     "data": {
      "image/png": "[encoded data removed]",
      "text/plain": [
       "<Figure size 432x288 with 1 Axes>"
      ]
     },
     "metadata": {
      "needs_background": "light"
     },
     "output_type": "display_data"
    }
   ],
   "source": [
    "sns.barplot(total_Vac[\"State/UTs\"][32:37],total_Vac[\"Total Vaccination Doses\"][32:37])"
   ]
  },
  {
   "cell_type": "code",
   "execution_count": 29,
   "metadata": {},
   "outputs": [
    {
     "data": {
      "image/png": "[encoded data removed]",
      "text/plain": [
       "<Figure size 432x288 with 1 Axes>"
      ]
     },
     "metadata": {},
     "output_type": "display_data"
    }
   ],
   "source": [
    "plt.pie(total_Vac['Total Vaccination Doses'][:5],labels=total_Vac['State/UTs'][:5],autopct='%1.1f%%')\n",
    "plt.show()"
   ]
  },
  {
   "cell_type": "code",
   "execution_count": 30,
   "metadata": {},
   "outputs": [
    {
     "data": {
      "image/png": "[encoded data removed]",
      "text/plain": [
       "<Figure size 432x288 with 1 Axes>"
      ]
     },
     "metadata": {},
     "output_type": "display_data"
    }
   ],
   "source": [
    "plt.pie(total_Vac['Total Vaccination Doses'][30:],labels=total_Vac['State/UTs'][30:],autopct='%1.1f%%')\n",
    "plt.show()"
   ]
  },
  {
   "cell_type": "code",
   "execution_count": 31,
   "metadata": {},
   "outputs": [],
   "source": [
    "# Analysing Data With Dose1 and Dose2 "
   ]
  },
  {
   "cell_type": "code",
   "execution_count": 32,
   "metadata": {},
   "outputs": [],
   "source": [
    "Dose1=df[\"Dose 1\"].sum() #Total Dose1 Given"
   ]
  },
  {
   "cell_type": "code",
   "execution_count": 33,
   "metadata": {},
   "outputs": [
    {
     "data": {
      "text/plain": [
       "544994806"
      ]
     },
     "execution_count": 33,
     "metadata": {},
     "output_type": "execute_result"
    }
   ],
   "source": [
    "Dose1"
   ]
  },
  {
   "cell_type": "code",
   "execution_count": 34,
   "metadata": {},
   "outputs": [],
   "source": [
    "Dose2=df[\"Dose 2\"].sum() #total Dose2 Given"
   ]
  },
  {
   "cell_type": "code",
   "execution_count": 35,
   "metadata": {},
   "outputs": [
    {
     "data": {
      "text/plain": [
       "168144437"
      ]
     },
     "execution_count": 35,
     "metadata": {},
     "output_type": "execute_result"
    }
   ],
   "source": [
    "Dose2"
   ]
  },
  {
   "cell_type": "code",
   "execution_count": 36,
   "metadata": {},
   "outputs": [],
   "source": [
    "Only_Dose_One=df[\"Dose 1\"].sum()-df[\"Dose 2\"].sum()"
   ]
  },
  {
   "cell_type": "code",
   "execution_count": 37,
   "metadata": {},
   "outputs": [
    {
     "data": {
      "text/plain": [
       "376850369"
      ]
     },
     "execution_count": 37,
     "metadata": {},
     "output_type": "execute_result"
    }
   ],
   "source": [
    "Only_Dose_One # Individual Got only Dose1"
   ]
  },
  {
   "cell_type": "code",
   "execution_count": 38,
   "metadata": {},
   "outputs": [],
   "source": [
    "#Chart Showing Doses given"
   ]
  },
  {
   "cell_type": "code",
   "execution_count": 39,
   "metadata": {},
   "outputs": [
    {
     "data": {
      "image/png": "[encoded data removed]",
      "text/plain": [
       "<Figure size 432x288 with 1 Axes>"
      ]
     },
     "metadata": {},
     "output_type": "display_data"
    }
   ],
   "source": [
    "plt.pie([Dose1,Dose2,Only_Dose_One],labels=['Total_Dose1=544994806','Total_Dose2=168144437','Only_Dose1=376850369'],autopct='%1.1f%%')\n",
    "plt.show()"
   ]
  },
  {
   "cell_type": "code",
   "execution_count": 40,
   "metadata": {},
   "outputs": [
    {
     "data": {
      "text/plain": [
       "52.84386923017782"
      ]
     },
     "execution_count": 40,
     "metadata": {},
     "output_type": "execute_result"
    }
   ],
   "source": [
    "#Percentage of Citizen How only First Dose\n",
    "(Only_Dose_One/df['Total Vaccination Doses'].sum())*100"
   ]
  },
  {
   "cell_type": "code",
   "execution_count": 41,
   "metadata": {},
   "outputs": [
    {
     "data": {
      "text/plain": [
       "23.578065384911092"
      ]
     },
     "execution_count": 41,
     "metadata": {},
     "output_type": "execute_result"
    }
   ],
   "source": [
    "#Percentage of Citizen How got Both  Doses\n",
    "(df[\"Dose 2\"].sum()/df['Total Vaccination Doses'].sum())*100"
   ]
  },
  {
   "cell_type": "code",
   "execution_count": 42,
   "metadata": {},
   "outputs": [
    {
     "data": {
      "text/plain": [
       "44.61835540885459"
      ]
     },
     "execution_count": 42,
     "metadata": {},
     "output_type": "execute_result"
    }
   ],
   "source": [
    "#Percentage of Citizen to First Dose and second Doses\n",
    "(df[\"Dose 2\"].sum()/Only_Dose_One)*100"
   ]
  },
  {
   "cell_type": "code",
   "execution_count": 43,
   "metadata": {},
   "outputs": [],
   "source": [
    "# Creatng Sub Data frame"
   ]
  },
  {
   "cell_type": "code",
   "execution_count": 44,
   "metadata": {},
   "outputs": [],
   "source": [
    "dose1=df[[\"State/UTs\",\"Dose 1\",\"Dose 2\"]]"
   ]
  },
  {
   "cell_type": "code",
   "execution_count": 45,
   "metadata": {},
   "outputs": [
    {
     "name": "stderr",
     "output_type": "stream",
     "text": [
      "C:\\Users\\Lenovo\\andorid\\lib\\site-packages\\ipykernel_launcher.py:3: SettingWithCopyWarning: \n",
      "A value is trying to be set on a copy of a slice from a DataFrame.\n",
      "Try using .loc[row_indexer,col_indexer] = value instead\n",
      "\n",
      "See the caveats in the documentation: https://pandas.pydata.org/pandas-docs/stable/user_guide/indexing.html#returning-a-view-versus-a-copy\n",
      "  This is separate from the ipykernel package so we can avoid doing imports until\n"
     ]
    }
   ],
   "source": [
    "#Getting Data For Only dose1\n",
    "dose1['Only_Dose 1']=(\n",
    "df['Dose 1']+df['Dose 2']\n",
    ")"
   ]
  },
  {
   "cell_type": "code",
   "execution_count": 46,
   "metadata": {},
   "outputs": [
    {
     "data": {
      "text/html": [
       "<div>\n",
       "<style scoped>\n",
       "    .dataframe tbody tr th:only-of-type {\n",
       "        vertical-align: middle;\n",
       "    }\n",
       "\n",
       "    .dataframe tbody tr th {\n",
       "        vertical-align: top;\n",
       "    }\n",
       "\n",
       "    .dataframe thead th {\n",
       "        text-align: right;\n",
       "    }\n",
       "</style>\n",
       "<table border=\"1\" class=\"dataframe\">\n",
       "  <thead>\n",
       "    <tr style=\"text-align: right;\">\n",
       "      <th></th>\n",
       "      <th>State/UTs</th>\n",
       "      <th>Dose 1</th>\n",
       "      <th>Dose 2</th>\n",
       "      <th>Only_Dose 1</th>\n",
       "    </tr>\n",
       "  </thead>\n",
       "  <tbody>\n",
       "    <tr>\n",
       "      <th>0</th>\n",
       "      <td>Andaman and Nicobar</td>\n",
       "      <td>265589</td>\n",
       "      <td>110961</td>\n",
       "      <td>376550</td>\n",
       "    </tr>\n",
       "    <tr>\n",
       "      <th>1</th>\n",
       "      <td>Andhra Pradesh</td>\n",
       "      <td>22780838</td>\n",
       "      <td>9478147</td>\n",
       "      <td>32258985</td>\n",
       "    </tr>\n",
       "    <tr>\n",
       "      <th>2</th>\n",
       "      <td>Arunachal Pradesh</td>\n",
       "      <td>735800</td>\n",
       "      <td>272483</td>\n",
       "      <td>1008283</td>\n",
       "    </tr>\n",
       "    <tr>\n",
       "      <th>3</th>\n",
       "      <td>Assam</td>\n",
       "      <td>15757069</td>\n",
       "      <td>3502138</td>\n",
       "      <td>19259207</td>\n",
       "    </tr>\n",
       "    <tr>\n",
       "      <th>4</th>\n",
       "      <td>Bihar</td>\n",
       "      <td>35540837</td>\n",
       "      <td>7387538</td>\n",
       "      <td>42928375</td>\n",
       "    </tr>\n",
       "    <tr>\n",
       "      <th>5</th>\n",
       "      <td>Chandigarh</td>\n",
       "      <td>838763</td>\n",
       "      <td>341258</td>\n",
       "      <td>1180021</td>\n",
       "    </tr>\n",
       "    <tr>\n",
       "      <th>6</th>\n",
       "      <td>Chhattisgarh</td>\n",
       "      <td>11243572</td>\n",
       "      <td>3595463</td>\n",
       "      <td>14839035</td>\n",
       "    </tr>\n",
       "    <tr>\n",
       "      <th>7</th>\n",
       "      <td>Dadra and Nagar Haveli and Daman and Diu</td>\n",
       "      <td>624788</td>\n",
       "      <td>170260</td>\n",
       "      <td>795048</td>\n",
       "    </tr>\n",
       "    <tr>\n",
       "      <th>8</th>\n",
       "      <td>Delhi</td>\n",
       "      <td>10361911</td>\n",
       "      <td>4223666</td>\n",
       "      <td>14585577</td>\n",
       "    </tr>\n",
       "    <tr>\n",
       "      <th>9</th>\n",
       "      <td>Goa</td>\n",
       "      <td>1181518</td>\n",
       "      <td>471957</td>\n",
       "      <td>1653475</td>\n",
       "    </tr>\n",
       "    <tr>\n",
       "      <th>10</th>\n",
       "      <td>Gujarat</td>\n",
       "      <td>37390654</td>\n",
       "      <td>13482531</td>\n",
       "      <td>50873185</td>\n",
       "    </tr>\n",
       "    <tr>\n",
       "      <th>11</th>\n",
       "      <td>Haryana</td>\n",
       "      <td>13055959</td>\n",
       "      <td>4551683</td>\n",
       "      <td>17607642</td>\n",
       "    </tr>\n",
       "    <tr>\n",
       "      <th>12</th>\n",
       "      <td>Himachal Pradesh</td>\n",
       "      <td>5562998</td>\n",
       "      <td>1862001</td>\n",
       "      <td>7424999</td>\n",
       "    </tr>\n",
       "    <tr>\n",
       "      <th>13</th>\n",
       "      <td>Jammu and Kashmir</td>\n",
       "      <td>6630328</td>\n",
       "      <td>2143338</td>\n",
       "      <td>8773666</td>\n",
       "    </tr>\n",
       "    <tr>\n",
       "      <th>14</th>\n",
       "      <td>Jharkhand</td>\n",
       "      <td>11454993</td>\n",
       "      <td>2978895</td>\n",
       "      <td>14433888</td>\n",
       "    </tr>\n",
       "    <tr>\n",
       "      <th>15</th>\n",
       "      <td>Karnataka</td>\n",
       "      <td>34904099</td>\n",
       "      <td>11951707</td>\n",
       "      <td>46855806</td>\n",
       "    </tr>\n",
       "    <tr>\n",
       "      <th>16</th>\n",
       "      <td>Kerala</td>\n",
       "      <td>22183005</td>\n",
       "      <td>8481412</td>\n",
       "      <td>30664417</td>\n",
       "    </tr>\n",
       "    <tr>\n",
       "      <th>17</th>\n",
       "      <td>Ladakh</td>\n",
       "      <td>196554</td>\n",
       "      <td>115998</td>\n",
       "      <td>312552</td>\n",
       "    </tr>\n",
       "    <tr>\n",
       "      <th>18</th>\n",
       "      <td>Lakshadweep</td>\n",
       "      <td>53191</td>\n",
       "      <td>28640</td>\n",
       "      <td>81831</td>\n",
       "    </tr>\n",
       "    <tr>\n",
       "      <th>19</th>\n",
       "      <td>Madhya Pradesh</td>\n",
       "      <td>40761568</td>\n",
       "      <td>9398499</td>\n",
       "      <td>50160067</td>\n",
       "    </tr>\n",
       "    <tr>\n",
       "      <th>20</th>\n",
       "      <td>Maharashtra</td>\n",
       "      <td>47595826</td>\n",
       "      <td>17986150</td>\n",
       "      <td>65581976</td>\n",
       "    </tr>\n",
       "    <tr>\n",
       "      <th>21</th>\n",
       "      <td>Manipur</td>\n",
       "      <td>1204611</td>\n",
       "      <td>377919</td>\n",
       "      <td>1582530</td>\n",
       "    </tr>\n",
       "    <tr>\n",
       "      <th>22</th>\n",
       "      <td>Meghalaya</td>\n",
       "      <td>1040723</td>\n",
       "      <td>337210</td>\n",
       "      <td>1377933</td>\n",
       "    </tr>\n",
       "    <tr>\n",
       "      <th>23</th>\n",
       "      <td>Mizoram</td>\n",
       "      <td>675907</td>\n",
       "      <td>274873</td>\n",
       "      <td>950780</td>\n",
       "    </tr>\n",
       "    <tr>\n",
       "      <th>24</th>\n",
       "      <td>Nagaland</td>\n",
       "      <td>664236</td>\n",
       "      <td>238413</td>\n",
       "      <td>902649</td>\n",
       "    </tr>\n",
       "    <tr>\n",
       "      <th>25</th>\n",
       "      <td>Odisha</td>\n",
       "      <td>18558501</td>\n",
       "      <td>6089870</td>\n",
       "      <td>24648371</td>\n",
       "    </tr>\n",
       "    <tr>\n",
       "      <th>26</th>\n",
       "      <td>Puducherry</td>\n",
       "      <td>653763</td>\n",
       "      <td>205964</td>\n",
       "      <td>859727</td>\n",
       "    </tr>\n",
       "    <tr>\n",
       "      <th>27</th>\n",
       "      <td>Punjab</td>\n",
       "      <td>11698998</td>\n",
       "      <td>3711958</td>\n",
       "      <td>15410956</td>\n",
       "    </tr>\n",
       "    <tr>\n",
       "      <th>28</th>\n",
       "      <td>Rajasthan</td>\n",
       "      <td>36186863</td>\n",
       "      <td>12016323</td>\n",
       "      <td>48203186</td>\n",
       "    </tr>\n",
       "    <tr>\n",
       "      <th>29</th>\n",
       "      <td>Sikkim</td>\n",
       "      <td>509903</td>\n",
       "      <td>212380</td>\n",
       "      <td>722283</td>\n",
       "    </tr>\n",
       "    <tr>\n",
       "      <th>30</th>\n",
       "      <td>Tamil Nadu</td>\n",
       "      <td>29020727</td>\n",
       "      <td>7344888</td>\n",
       "      <td>36365615</td>\n",
       "    </tr>\n",
       "    <tr>\n",
       "      <th>31</th>\n",
       "      <td>Telangana</td>\n",
       "      <td>13972953</td>\n",
       "      <td>5102696</td>\n",
       "      <td>19075649</td>\n",
       "    </tr>\n",
       "    <tr>\n",
       "      <th>32</th>\n",
       "      <td>Tripura</td>\n",
       "      <td>2468108</td>\n",
       "      <td>916379</td>\n",
       "      <td>3384487</td>\n",
       "    </tr>\n",
       "    <tr>\n",
       "      <th>33</th>\n",
       "      <td>Uttar Pradesh</td>\n",
       "      <td>69822355</td>\n",
       "      <td>13670519</td>\n",
       "      <td>83492874</td>\n",
       "    </tr>\n",
       "    <tr>\n",
       "      <th>34</th>\n",
       "      <td>Uttarakhand</td>\n",
       "      <td>6875064</td>\n",
       "      <td>2254177</td>\n",
       "      <td>9129241</td>\n",
       "    </tr>\n",
       "    <tr>\n",
       "      <th>35</th>\n",
       "      <td>West Bengal</td>\n",
       "      <td>32522234</td>\n",
       "      <td>12856143</td>\n",
       "      <td>45378377</td>\n",
       "    </tr>\n",
       "  </tbody>\n",
       "</table>\n",
       "</div>"
      ],
      "text/plain": [
       "                                   State/UTs    Dose 1    Dose 2  Only_Dose 1\n",
       "0                        Andaman and Nicobar    265589    110961       376550\n",
       "1                             Andhra Pradesh  22780838   9478147     32258985\n",
       "2                          Arunachal Pradesh    735800    272483      1008283\n",
       "3                                      Assam  15757069   3502138     19259207\n",
       "4                                      Bihar  35540837   7387538     42928375\n",
       "5                                 Chandigarh    838763    341258      1180021\n",
       "6                               Chhattisgarh  11243572   3595463     14839035\n",
       "7   Dadra and Nagar Haveli and Daman and Diu    624788    170260       795048\n",
       "8                                      Delhi  10361911   4223666     14585577\n",
       "9                                        Goa   1181518    471957      1653475\n",
       "10                                   Gujarat  37390654  13482531     50873185\n",
       "11                                   Haryana  13055959   4551683     17607642\n",
       "12                          Himachal Pradesh   5562998   1862001      7424999\n",
       "13                         Jammu and Kashmir   6630328   2143338      8773666\n",
       "14                                 Jharkhand  11454993   2978895     14433888\n",
       "15                                 Karnataka  34904099  11951707     46855806\n",
       "16                                    Kerala  22183005   8481412     30664417\n",
       "17                                    Ladakh    196554    115998       312552\n",
       "18                               Lakshadweep     53191     28640        81831\n",
       "19                            Madhya Pradesh  40761568   9398499     50160067\n",
       "20                               Maharashtra  47595826  17986150     65581976\n",
       "21                                   Manipur   1204611    377919      1582530\n",
       "22                                 Meghalaya   1040723    337210      1377933\n",
       "23                                   Mizoram    675907    274873       950780\n",
       "24                                  Nagaland    664236    238413       902649\n",
       "25                                    Odisha  18558501   6089870     24648371\n",
       "26                                Puducherry    653763    205964       859727\n",
       "27                                    Punjab  11698998   3711958     15410956\n",
       "28                                 Rajasthan  36186863  12016323     48203186\n",
       "29                                    Sikkim    509903    212380       722283\n",
       "30                                Tamil Nadu  29020727   7344888     36365615\n",
       "31                                 Telangana  13972953   5102696     19075649\n",
       "32                                   Tripura   2468108    916379      3384487\n",
       "33                             Uttar Pradesh  69822355  13670519     83492874\n",
       "34                               Uttarakhand   6875064   2254177      9129241\n",
       "35                               West Bengal  32522234  12856143     45378377"
      ]
     },
     "execution_count": 46,
     "metadata": {},
     "output_type": "execute_result"
    }
   ],
   "source": [
    "dose1"
   ]
  },
  {
   "cell_type": "code",
   "execution_count": 47,
   "metadata": {},
   "outputs": [
    {
     "name": "stderr",
     "output_type": "stream",
     "text": [
      "C:\\Users\\Lenovo\\andorid\\lib\\site-packages\\ipykernel_launcher.py:1: SettingWithCopyWarning: \n",
      "A value is trying to be set on a copy of a slice from a DataFrame\n",
      "\n",
      "See the caveats in the documentation: https://pandas.pydata.org/pandas-docs/stable/user_guide/indexing.html#returning-a-view-versus-a-copy\n",
      "  \"\"\"Entry point for launching an IPython kernel.\n"
     ]
    }
   ],
   "source": [
    "dose1.sort_values(\"Only_Dose 1\",ascending=False,inplace=True)"
   ]
  },
  {
   "cell_type": "code",
   "execution_count": 48,
   "metadata": {},
   "outputs": [
    {
     "data": {
      "text/html": [
       "<div>\n",
       "<style scoped>\n",
       "    .dataframe tbody tr th:only-of-type {\n",
       "        vertical-align: middle;\n",
       "    }\n",
       "\n",
       "    .dataframe tbody tr th {\n",
       "        vertical-align: top;\n",
       "    }\n",
       "\n",
       "    .dataframe thead th {\n",
       "        text-align: right;\n",
       "    }\n",
       "</style>\n",
       "<table border=\"1\" class=\"dataframe\">\n",
       "  <thead>\n",
       "    <tr style=\"text-align: right;\">\n",
       "      <th></th>\n",
       "      <th>State/UTs</th>\n",
       "      <th>Dose 1</th>\n",
       "      <th>Dose 2</th>\n",
       "      <th>Only_Dose 1</th>\n",
       "    </tr>\n",
       "  </thead>\n",
       "  <tbody>\n",
       "    <tr>\n",
       "      <th>33</th>\n",
       "      <td>Uttar Pradesh</td>\n",
       "      <td>69822355</td>\n",
       "      <td>13670519</td>\n",
       "      <td>83492874</td>\n",
       "    </tr>\n",
       "    <tr>\n",
       "      <th>20</th>\n",
       "      <td>Maharashtra</td>\n",
       "      <td>47595826</td>\n",
       "      <td>17986150</td>\n",
       "      <td>65581976</td>\n",
       "    </tr>\n",
       "    <tr>\n",
       "      <th>10</th>\n",
       "      <td>Gujarat</td>\n",
       "      <td>37390654</td>\n",
       "      <td>13482531</td>\n",
       "      <td>50873185</td>\n",
       "    </tr>\n",
       "    <tr>\n",
       "      <th>19</th>\n",
       "      <td>Madhya Pradesh</td>\n",
       "      <td>40761568</td>\n",
       "      <td>9398499</td>\n",
       "      <td>50160067</td>\n",
       "    </tr>\n",
       "    <tr>\n",
       "      <th>28</th>\n",
       "      <td>Rajasthan</td>\n",
       "      <td>36186863</td>\n",
       "      <td>12016323</td>\n",
       "      <td>48203186</td>\n",
       "    </tr>\n",
       "    <tr>\n",
       "      <th>15</th>\n",
       "      <td>Karnataka</td>\n",
       "      <td>34904099</td>\n",
       "      <td>11951707</td>\n",
       "      <td>46855806</td>\n",
       "    </tr>\n",
       "    <tr>\n",
       "      <th>35</th>\n",
       "      <td>West Bengal</td>\n",
       "      <td>32522234</td>\n",
       "      <td>12856143</td>\n",
       "      <td>45378377</td>\n",
       "    </tr>\n",
       "    <tr>\n",
       "      <th>4</th>\n",
       "      <td>Bihar</td>\n",
       "      <td>35540837</td>\n",
       "      <td>7387538</td>\n",
       "      <td>42928375</td>\n",
       "    </tr>\n",
       "    <tr>\n",
       "      <th>30</th>\n",
       "      <td>Tamil Nadu</td>\n",
       "      <td>29020727</td>\n",
       "      <td>7344888</td>\n",
       "      <td>36365615</td>\n",
       "    </tr>\n",
       "    <tr>\n",
       "      <th>1</th>\n",
       "      <td>Andhra Pradesh</td>\n",
       "      <td>22780838</td>\n",
       "      <td>9478147</td>\n",
       "      <td>32258985</td>\n",
       "    </tr>\n",
       "    <tr>\n",
       "      <th>16</th>\n",
       "      <td>Kerala</td>\n",
       "      <td>22183005</td>\n",
       "      <td>8481412</td>\n",
       "      <td>30664417</td>\n",
       "    </tr>\n",
       "    <tr>\n",
       "      <th>25</th>\n",
       "      <td>Odisha</td>\n",
       "      <td>18558501</td>\n",
       "      <td>6089870</td>\n",
       "      <td>24648371</td>\n",
       "    </tr>\n",
       "    <tr>\n",
       "      <th>3</th>\n",
       "      <td>Assam</td>\n",
       "      <td>15757069</td>\n",
       "      <td>3502138</td>\n",
       "      <td>19259207</td>\n",
       "    </tr>\n",
       "    <tr>\n",
       "      <th>31</th>\n",
       "      <td>Telangana</td>\n",
       "      <td>13972953</td>\n",
       "      <td>5102696</td>\n",
       "      <td>19075649</td>\n",
       "    </tr>\n",
       "    <tr>\n",
       "      <th>11</th>\n",
       "      <td>Haryana</td>\n",
       "      <td>13055959</td>\n",
       "      <td>4551683</td>\n",
       "      <td>17607642</td>\n",
       "    </tr>\n",
       "    <tr>\n",
       "      <th>27</th>\n",
       "      <td>Punjab</td>\n",
       "      <td>11698998</td>\n",
       "      <td>3711958</td>\n",
       "      <td>15410956</td>\n",
       "    </tr>\n",
       "    <tr>\n",
       "      <th>6</th>\n",
       "      <td>Chhattisgarh</td>\n",
       "      <td>11243572</td>\n",
       "      <td>3595463</td>\n",
       "      <td>14839035</td>\n",
       "    </tr>\n",
       "    <tr>\n",
       "      <th>8</th>\n",
       "      <td>Delhi</td>\n",
       "      <td>10361911</td>\n",
       "      <td>4223666</td>\n",
       "      <td>14585577</td>\n",
       "    </tr>\n",
       "    <tr>\n",
       "      <th>14</th>\n",
       "      <td>Jharkhand</td>\n",
       "      <td>11454993</td>\n",
       "      <td>2978895</td>\n",
       "      <td>14433888</td>\n",
       "    </tr>\n",
       "    <tr>\n",
       "      <th>34</th>\n",
       "      <td>Uttarakhand</td>\n",
       "      <td>6875064</td>\n",
       "      <td>2254177</td>\n",
       "      <td>9129241</td>\n",
       "    </tr>\n",
       "    <tr>\n",
       "      <th>13</th>\n",
       "      <td>Jammu and Kashmir</td>\n",
       "      <td>6630328</td>\n",
       "      <td>2143338</td>\n",
       "      <td>8773666</td>\n",
       "    </tr>\n",
       "    <tr>\n",
       "      <th>12</th>\n",
       "      <td>Himachal Pradesh</td>\n",
       "      <td>5562998</td>\n",
       "      <td>1862001</td>\n",
       "      <td>7424999</td>\n",
       "    </tr>\n",
       "    <tr>\n",
       "      <th>32</th>\n",
       "      <td>Tripura</td>\n",
       "      <td>2468108</td>\n",
       "      <td>916379</td>\n",
       "      <td>3384487</td>\n",
       "    </tr>\n",
       "    <tr>\n",
       "      <th>9</th>\n",
       "      <td>Goa</td>\n",
       "      <td>1181518</td>\n",
       "      <td>471957</td>\n",
       "      <td>1653475</td>\n",
       "    </tr>\n",
       "    <tr>\n",
       "      <th>21</th>\n",
       "      <td>Manipur</td>\n",
       "      <td>1204611</td>\n",
       "      <td>377919</td>\n",
       "      <td>1582530</td>\n",
       "    </tr>\n",
       "    <tr>\n",
       "      <th>22</th>\n",
       "      <td>Meghalaya</td>\n",
       "      <td>1040723</td>\n",
       "      <td>337210</td>\n",
       "      <td>1377933</td>\n",
       "    </tr>\n",
       "    <tr>\n",
       "      <th>5</th>\n",
       "      <td>Chandigarh</td>\n",
       "      <td>838763</td>\n",
       "      <td>341258</td>\n",
       "      <td>1180021</td>\n",
       "    </tr>\n",
       "    <tr>\n",
       "      <th>2</th>\n",
       "      <td>Arunachal Pradesh</td>\n",
       "      <td>735800</td>\n",
       "      <td>272483</td>\n",
       "      <td>1008283</td>\n",
       "    </tr>\n",
       "    <tr>\n",
       "      <th>23</th>\n",
       "      <td>Mizoram</td>\n",
       "      <td>675907</td>\n",
       "      <td>274873</td>\n",
       "      <td>950780</td>\n",
       "    </tr>\n",
       "    <tr>\n",
       "      <th>24</th>\n",
       "      <td>Nagaland</td>\n",
       "      <td>664236</td>\n",
       "      <td>238413</td>\n",
       "      <td>902649</td>\n",
       "    </tr>\n",
       "    <tr>\n",
       "      <th>26</th>\n",
       "      <td>Puducherry</td>\n",
       "      <td>653763</td>\n",
       "      <td>205964</td>\n",
       "      <td>859727</td>\n",
       "    </tr>\n",
       "    <tr>\n",
       "      <th>7</th>\n",
       "      <td>Dadra and Nagar Haveli and Daman and Diu</td>\n",
       "      <td>624788</td>\n",
       "      <td>170260</td>\n",
       "      <td>795048</td>\n",
       "    </tr>\n",
       "    <tr>\n",
       "      <th>29</th>\n",
       "      <td>Sikkim</td>\n",
       "      <td>509903</td>\n",
       "      <td>212380</td>\n",
       "      <td>722283</td>\n",
       "    </tr>\n",
       "    <tr>\n",
       "      <th>0</th>\n",
       "      <td>Andaman and Nicobar</td>\n",
       "      <td>265589</td>\n",
       "      <td>110961</td>\n",
       "      <td>376550</td>\n",
       "    </tr>\n",
       "    <tr>\n",
       "      <th>17</th>\n",
       "      <td>Ladakh</td>\n",
       "      <td>196554</td>\n",
       "      <td>115998</td>\n",
       "      <td>312552</td>\n",
       "    </tr>\n",
       "    <tr>\n",
       "      <th>18</th>\n",
       "      <td>Lakshadweep</td>\n",
       "      <td>53191</td>\n",
       "      <td>28640</td>\n",
       "      <td>81831</td>\n",
       "    </tr>\n",
       "  </tbody>\n",
       "</table>\n",
       "</div>"
      ],
      "text/plain": [
       "                                   State/UTs    Dose 1    Dose 2  Only_Dose 1\n",
       "33                             Uttar Pradesh  69822355  13670519     83492874\n",
       "20                               Maharashtra  47595826  17986150     65581976\n",
       "10                                   Gujarat  37390654  13482531     50873185\n",
       "19                            Madhya Pradesh  40761568   9398499     50160067\n",
       "28                                 Rajasthan  36186863  12016323     48203186\n",
       "15                                 Karnataka  34904099  11951707     46855806\n",
       "35                               West Bengal  32522234  12856143     45378377\n",
       "4                                      Bihar  35540837   7387538     42928375\n",
       "30                                Tamil Nadu  29020727   7344888     36365615\n",
       "1                             Andhra Pradesh  22780838   9478147     32258985\n",
       "16                                    Kerala  22183005   8481412     30664417\n",
       "25                                    Odisha  18558501   6089870     24648371\n",
       "3                                      Assam  15757069   3502138     19259207\n",
       "31                                 Telangana  13972953   5102696     19075649\n",
       "11                                   Haryana  13055959   4551683     17607642\n",
       "27                                    Punjab  11698998   3711958     15410956\n",
       "6                               Chhattisgarh  11243572   3595463     14839035\n",
       "8                                      Delhi  10361911   4223666     14585577\n",
       "14                                 Jharkhand  11454993   2978895     14433888\n",
       "34                               Uttarakhand   6875064   2254177      9129241\n",
       "13                         Jammu and Kashmir   6630328   2143338      8773666\n",
       "12                          Himachal Pradesh   5562998   1862001      7424999\n",
       "32                                   Tripura   2468108    916379      3384487\n",
       "9                                        Goa   1181518    471957      1653475\n",
       "21                                   Manipur   1204611    377919      1582530\n",
       "22                                 Meghalaya   1040723    337210      1377933\n",
       "5                                 Chandigarh    838763    341258      1180021\n",
       "2                          Arunachal Pradesh    735800    272483      1008283\n",
       "23                                   Mizoram    675907    274873       950780\n",
       "24                                  Nagaland    664236    238413       902649\n",
       "26                                Puducherry    653763    205964       859727\n",
       "7   Dadra and Nagar Haveli and Daman and Diu    624788    170260       795048\n",
       "29                                    Sikkim    509903    212380       722283\n",
       "0                        Andaman and Nicobar    265589    110961       376550\n",
       "17                                    Ladakh    196554    115998       312552\n",
       "18                               Lakshadweep     53191     28640        81831"
      ]
     },
     "execution_count": 48,
     "metadata": {},
     "output_type": "execute_result"
    }
   ],
   "source": [
    "dose1"
   ]
  },
  {
   "cell_type": "code",
   "execution_count": 49,
   "metadata": {},
   "outputs": [
    {
     "data": {
      "text/html": [
       "<div>\n",
       "<style scoped>\n",
       "    .dataframe tbody tr th:only-of-type {\n",
       "        vertical-align: middle;\n",
       "    }\n",
       "\n",
       "    .dataframe tbody tr th {\n",
       "        vertical-align: top;\n",
       "    }\n",
       "\n",
       "    .dataframe thead th {\n",
       "        text-align: right;\n",
       "    }\n",
       "</style>\n",
       "<table border=\"1\" class=\"dataframe\">\n",
       "  <thead>\n",
       "    <tr style=\"text-align: right;\">\n",
       "      <th></th>\n",
       "      <th>State/UTs</th>\n",
       "      <th>Dose 1</th>\n",
       "      <th>Dose 2</th>\n",
       "      <th>Only_Dose 1</th>\n",
       "    </tr>\n",
       "  </thead>\n",
       "  <tbody>\n",
       "    <tr>\n",
       "      <th>33</th>\n",
       "      <td>Uttar Pradesh</td>\n",
       "      <td>69822355</td>\n",
       "      <td>13670519</td>\n",
       "      <td>83492874</td>\n",
       "    </tr>\n",
       "    <tr>\n",
       "      <th>20</th>\n",
       "      <td>Maharashtra</td>\n",
       "      <td>47595826</td>\n",
       "      <td>17986150</td>\n",
       "      <td>65581976</td>\n",
       "    </tr>\n",
       "    <tr>\n",
       "      <th>10</th>\n",
       "      <td>Gujarat</td>\n",
       "      <td>37390654</td>\n",
       "      <td>13482531</td>\n",
       "      <td>50873185</td>\n",
       "    </tr>\n",
       "    <tr>\n",
       "      <th>19</th>\n",
       "      <td>Madhya Pradesh</td>\n",
       "      <td>40761568</td>\n",
       "      <td>9398499</td>\n",
       "      <td>50160067</td>\n",
       "    </tr>\n",
       "    <tr>\n",
       "      <th>28</th>\n",
       "      <td>Rajasthan</td>\n",
       "      <td>36186863</td>\n",
       "      <td>12016323</td>\n",
       "      <td>48203186</td>\n",
       "    </tr>\n",
       "  </tbody>\n",
       "</table>\n",
       "</div>"
      ],
      "text/plain": [
       "         State/UTs    Dose 1    Dose 2  Only_Dose 1\n",
       "33   Uttar Pradesh  69822355  13670519     83492874\n",
       "20     Maharashtra  47595826  17986150     65581976\n",
       "10         Gujarat  37390654  13482531     50873185\n",
       "19  Madhya Pradesh  40761568   9398499     50160067\n",
       "28       Rajasthan  36186863  12016323     48203186"
      ]
     },
     "execution_count": 49,
     "metadata": {},
     "output_type": "execute_result"
    }
   ],
   "source": [
    "dose1.head()"
   ]
  },
  {
   "cell_type": "code",
   "execution_count": 50,
   "metadata": {},
   "outputs": [
    {
     "data": {
      "text/plain": [
       "<matplotlib.axes._subplots.AxesSubplot at 0xa240e50>"
      ]
     },
     "execution_count": 50,
     "metadata": {},
     "output_type": "execute_result"
    },
    {
     "data": {
      "image/png": "[encoded data removed]",
      "text/plain": [
       "<Figure size 432x288 with 1 Axes>"
      ]
     },
     "metadata": {
      "needs_background": "light"
     },
     "output_type": "display_data"
    }
   ],
   "source": [
    "sns.barplot(dose1[\"State/UTs\"][:5],dose1[\"Only_Dose 1\"][:5])"
   ]
  },
  {
   "cell_type": "code",
   "execution_count": 51,
   "metadata": {},
   "outputs": [
    {
     "data": {
      "text/html": [
       "<div>\n",
       "<style scoped>\n",
       "    .dataframe tbody tr th:only-of-type {\n",
       "        vertical-align: middle;\n",
       "    }\n",
       "\n",
       "    .dataframe tbody tr th {\n",
       "        vertical-align: top;\n",
       "    }\n",
       "\n",
       "    .dataframe thead th {\n",
       "        text-align: right;\n",
       "    }\n",
       "</style>\n",
       "<table border=\"1\" class=\"dataframe\">\n",
       "  <thead>\n",
       "    <tr style=\"text-align: right;\">\n",
       "      <th></th>\n",
       "      <th>State/UTs</th>\n",
       "      <th>Dose 1</th>\n",
       "      <th>Dose 2</th>\n",
       "      <th>Only_Dose 1</th>\n",
       "    </tr>\n",
       "  </thead>\n",
       "  <tbody>\n",
       "    <tr>\n",
       "      <th>7</th>\n",
       "      <td>Dadra and Nagar Haveli and Daman and Diu</td>\n",
       "      <td>624788</td>\n",
       "      <td>170260</td>\n",
       "      <td>795048</td>\n",
       "    </tr>\n",
       "    <tr>\n",
       "      <th>29</th>\n",
       "      <td>Sikkim</td>\n",
       "      <td>509903</td>\n",
       "      <td>212380</td>\n",
       "      <td>722283</td>\n",
       "    </tr>\n",
       "    <tr>\n",
       "      <th>0</th>\n",
       "      <td>Andaman and Nicobar</td>\n",
       "      <td>265589</td>\n",
       "      <td>110961</td>\n",
       "      <td>376550</td>\n",
       "    </tr>\n",
       "    <tr>\n",
       "      <th>17</th>\n",
       "      <td>Ladakh</td>\n",
       "      <td>196554</td>\n",
       "      <td>115998</td>\n",
       "      <td>312552</td>\n",
       "    </tr>\n",
       "    <tr>\n",
       "      <th>18</th>\n",
       "      <td>Lakshadweep</td>\n",
       "      <td>53191</td>\n",
       "      <td>28640</td>\n",
       "      <td>81831</td>\n",
       "    </tr>\n",
       "  </tbody>\n",
       "</table>\n",
       "</div>"
      ],
      "text/plain": [
       "                                   State/UTs  Dose 1  Dose 2  Only_Dose 1\n",
       "7   Dadra and Nagar Haveli and Daman and Diu  624788  170260       795048\n",
       "29                                    Sikkim  509903  212380       722283\n",
       "0                        Andaman and Nicobar  265589  110961       376550\n",
       "17                                    Ladakh  196554  115998       312552\n",
       "18                               Lakshadweep   53191   28640        81831"
      ]
     },
     "execution_count": 51,
     "metadata": {},
     "output_type": "execute_result"
    }
   ],
   "source": [
    "dose1.tail()"
   ]
  },
  {
   "cell_type": "code",
   "execution_count": 52,
   "metadata": {},
   "outputs": [
    {
     "data": {
      "text/plain": [
       "<matplotlib.axes._subplots.AxesSubplot at 0xa24b630>"
      ]
     },
     "execution_count": 52,
     "metadata": {},
     "output_type": "execute_result"
    },
    {
     "data": {
      "image/png": "[encoded data removed]",
      "text/plain": [
       "<Figure size 432x288 with 1 Axes>"
      ]
     },
     "metadata": {
      "needs_background": "light"
     },
     "output_type": "display_data"
    }
   ],
   "source": [
    "sns.barplot(dose1[\"State/UTs\"][32:],dose1[\"Only_Dose 1\"][32:])"
   ]
  },
  {
   "cell_type": "code",
   "execution_count": 53,
   "metadata": {},
   "outputs": [
    {
     "data": {
      "image/png": "[encoded data removed]",
      "text/plain": [
       "<Figure size 432x288 with 1 Axes>"
      ]
     },
     "metadata": {},
     "output_type": "display_data"
    }
   ],
   "source": [
    "plt.pie(dose1[\"Only_Dose 1\"][:5],labels=dose1[\"State/UTs\"][:5],autopct='%1.1f%%')\n",
    "plt.show()"
   ]
  },
  {
   "cell_type": "code",
   "execution_count": 54,
   "metadata": {},
   "outputs": [
    {
     "data": {
      "text/plain": [
       "<matplotlib.axes._subplots.AxesSubplot at 0xabab1b0>"
      ]
     },
     "execution_count": 54,
     "metadata": {},
     "output_type": "execute_result"
    },
    {
     "data": {
      "image/png": "[encoded data removed]",
      "text/plain": [
       "<Figure size 432x288 with 1 Axes>"
      ]
     },
     "metadata": {
      "needs_background": "light"
     },
     "output_type": "display_data"
    }
   ],
   "source": [
    "sns.scatterplot(dose1[\"Only_Dose 1\"],dose1[\"Dose 2\"])"
   ]
  },
  {
   "cell_type": "code",
   "execution_count": 58,
   "metadata": {},
   "outputs": [],
   "source": [
    "dose2=dose1.sort_values(\"Dose 2\",ascending=False)"
   ]
  },
  {
   "cell_type": "code",
   "execution_count": 59,
   "metadata": {},
   "outputs": [
    {
     "data": {
      "text/html": [
       "<div>\n",
       "<style scoped>\n",
       "    .dataframe tbody tr th:only-of-type {\n",
       "        vertical-align: middle;\n",
       "    }\n",
       "\n",
       "    .dataframe tbody tr th {\n",
       "        vertical-align: top;\n",
       "    }\n",
       "\n",
       "    .dataframe thead th {\n",
       "        text-align: right;\n",
       "    }\n",
       "</style>\n",
       "<table border=\"1\" class=\"dataframe\">\n",
       "  <thead>\n",
       "    <tr style=\"text-align: right;\">\n",
       "      <th></th>\n",
       "      <th>State/UTs</th>\n",
       "      <th>Dose 1</th>\n",
       "      <th>Dose 2</th>\n",
       "      <th>Only_Dose 1</th>\n",
       "    </tr>\n",
       "  </thead>\n",
       "  <tbody>\n",
       "    <tr>\n",
       "      <th>20</th>\n",
       "      <td>Maharashtra</td>\n",
       "      <td>47595826</td>\n",
       "      <td>17986150</td>\n",
       "      <td>65581976</td>\n",
       "    </tr>\n",
       "    <tr>\n",
       "      <th>33</th>\n",
       "      <td>Uttar Pradesh</td>\n",
       "      <td>69822355</td>\n",
       "      <td>13670519</td>\n",
       "      <td>83492874</td>\n",
       "    </tr>\n",
       "    <tr>\n",
       "      <th>10</th>\n",
       "      <td>Gujarat</td>\n",
       "      <td>37390654</td>\n",
       "      <td>13482531</td>\n",
       "      <td>50873185</td>\n",
       "    </tr>\n",
       "    <tr>\n",
       "      <th>35</th>\n",
       "      <td>West Bengal</td>\n",
       "      <td>32522234</td>\n",
       "      <td>12856143</td>\n",
       "      <td>45378377</td>\n",
       "    </tr>\n",
       "    <tr>\n",
       "      <th>28</th>\n",
       "      <td>Rajasthan</td>\n",
       "      <td>36186863</td>\n",
       "      <td>12016323</td>\n",
       "      <td>48203186</td>\n",
       "    </tr>\n",
       "  </tbody>\n",
       "</table>\n",
       "</div>"
      ],
      "text/plain": [
       "        State/UTs    Dose 1    Dose 2  Only_Dose 1\n",
       "20    Maharashtra  47595826  17986150     65581976\n",
       "33  Uttar Pradesh  69822355  13670519     83492874\n",
       "10        Gujarat  37390654  13482531     50873185\n",
       "35    West Bengal  32522234  12856143     45378377\n",
       "28      Rajasthan  36186863  12016323     48203186"
      ]
     },
     "execution_count": 59,
     "metadata": {},
     "output_type": "execute_result"
    }
   ],
   "source": [
    "dose2.head()"
   ]
  },
  {
   "cell_type": "code",
   "execution_count": 60,
   "metadata": {},
   "outputs": [
    {
     "data": {
      "text/html": [
       "<div>\n",
       "<style scoped>\n",
       "    .dataframe tbody tr th:only-of-type {\n",
       "        vertical-align: middle;\n",
       "    }\n",
       "\n",
       "    .dataframe tbody tr th {\n",
       "        vertical-align: top;\n",
       "    }\n",
       "\n",
       "    .dataframe thead th {\n",
       "        text-align: right;\n",
       "    }\n",
       "</style>\n",
       "<table border=\"1\" class=\"dataframe\">\n",
       "  <thead>\n",
       "    <tr style=\"text-align: right;\">\n",
       "      <th></th>\n",
       "      <th>Dose 1</th>\n",
       "      <th>Dose 2</th>\n",
       "      <th>Only_Dose 1</th>\n",
       "    </tr>\n",
       "  </thead>\n",
       "  <tbody>\n",
       "    <tr>\n",
       "      <th>count</th>\n",
       "      <td>3.600000e+01</td>\n",
       "      <td>3.600000e+01</td>\n",
       "      <td>3.600000e+01</td>\n",
       "    </tr>\n",
       "    <tr>\n",
       "      <th>mean</th>\n",
       "      <td>1.513874e+07</td>\n",
       "      <td>4.670679e+06</td>\n",
       "      <td>1.980942e+07</td>\n",
       "    </tr>\n",
       "    <tr>\n",
       "      <th>std</th>\n",
       "      <td>1.711077e+07</td>\n",
       "      <td>5.021122e+06</td>\n",
       "      <td>2.187314e+07</td>\n",
       "    </tr>\n",
       "    <tr>\n",
       "      <th>min</th>\n",
       "      <td>5.319100e+04</td>\n",
       "      <td>2.864000e+04</td>\n",
       "      <td>8.183100e+04</td>\n",
       "    </tr>\n",
       "    <tr>\n",
       "      <th>25%</th>\n",
       "      <td>8.130222e+05</td>\n",
       "      <td>3.216258e+05</td>\n",
       "      <td>1.137086e+06</td>\n",
       "    </tr>\n",
       "    <tr>\n",
       "      <th>50%</th>\n",
       "      <td>1.080274e+07</td>\n",
       "      <td>3.240516e+06</td>\n",
       "      <td>1.450973e+07</td>\n",
       "    </tr>\n",
       "    <tr>\n",
       "      <th>75%</th>\n",
       "      <td>2.434081e+07</td>\n",
       "      <td>7.661006e+06</td>\n",
       "      <td>3.328564e+07</td>\n",
       "    </tr>\n",
       "    <tr>\n",
       "      <th>max</th>\n",
       "      <td>6.982236e+07</td>\n",
       "      <td>1.798615e+07</td>\n",
       "      <td>8.349287e+07</td>\n",
       "    </tr>\n",
       "  </tbody>\n",
       "</table>\n",
       "</div>"
      ],
      "text/plain": [
       "             Dose 1        Dose 2   Only_Dose 1\n",
       "count  3.600000e+01  3.600000e+01  3.600000e+01\n",
       "mean   1.513874e+07  4.670679e+06  1.980942e+07\n",
       "std    1.711077e+07  5.021122e+06  2.187314e+07\n",
       "min    5.319100e+04  2.864000e+04  8.183100e+04\n",
       "25%    8.130222e+05  3.216258e+05  1.137086e+06\n",
       "50%    1.080274e+07  3.240516e+06  1.450973e+07\n",
       "75%    2.434081e+07  7.661006e+06  3.328564e+07\n",
       "max    6.982236e+07  1.798615e+07  8.349287e+07"
      ]
     },
     "execution_count": 60,
     "metadata": {},
     "output_type": "execute_result"
    }
   ],
   "source": [
    "dose2.describe()"
   ]
  },
  {
   "cell_type": "code",
   "execution_count": 61,
   "metadata": {},
   "outputs": [
    {
     "data": {
      "text/plain": [
       "<matplotlib.axes._subplots.AxesSubplot at 0xa1f25b0>"
      ]
     },
     "execution_count": 61,
     "metadata": {},
     "output_type": "execute_result"
    },
    {
     "data": {
      "image/png": "[encoded data removed]",
      "text/plain": [
       "<Figure size 432x288 with 1 Axes>"
      ]
     },
     "metadata": {
      "needs_background": "light"
     },
     "output_type": "display_data"
    }
   ],
   "source": [
    "sns.barplot(dose2[\"State/UTs\"][:5],dose2[\"Dose 2\"][:5])"
   ]
  },
  {
   "cell_type": "code",
   "execution_count": 63,
   "metadata": {},
   "outputs": [
    {
     "data": {
      "text/plain": [
       "<matplotlib.axes._subplots.AxesSubplot at 0xdc69f0>"
      ]
     },
     "execution_count": 63,
     "metadata": {},
     "output_type": "execute_result"
    },
    {
     "data": {
      "image/png": "[encoded data removed]",
      "text/plain": [
       "<Figure size 432x288 with 1 Axes>"
      ]
     },
     "metadata": {
      "needs_background": "light"
     },
     "output_type": "display_data"
    }
   ],
   "source": [
    "sns.barplot(dose2[\"State/UTs\"][32:37],dose2[\"Dose 2\"][32:37])"
   ]
  },
  {
   "cell_type": "code",
   "execution_count": 66,
   "metadata": {},
   "outputs": [
    {
     "data": {
      "image/png": "[encoded data removed]",
      "text/plain": [
       "<Figure size 432x288 with 1 Axes>"
      ]
     },
     "metadata": {},
     "output_type": "display_data"
    }
   ],
   "source": [
    "plt.pie(dose2[\"Dose 2\"][:5],labels=dose2[\"State/UTs\"][:5],autopct=\"%1.1f%%\")\n",
    "\n",
    "plt.show()"
   ]
  },
  {
   "cell_type": "code",
   "execution_count": 67,
   "metadata": {},
   "outputs": [
    {
     "data": {
      "image/png": "[encoded data removed]",
      "text/plain": [
       "<Figure size 432x288 with 1 Axes>"
      ]
     },
     "metadata": {},
     "output_type": "display_data"
    }
   ],
   "source": [
    "plt.pie(dose2[\"Dose 2\"][30:37],labels=dose2[\"State/UTs\"][30:37],autopct=\"%1.1f%%\")\n",
    "\n",
    "plt.show()"
   ]
  },
  {
   "cell_type": "code",
   "execution_count": 68,
   "metadata": {},
   "outputs": [
    {
     "data": {
      "text/plain": [
       "<matplotlib.axes._subplots.AxesSubplot at 0xed4850>"
      ]
     },
     "execution_count": 68,
     "metadata": {},
     "output_type": "execute_result"
    },
    {
     "data": {
      "image/png": "[encoded data removed]",
      "text/plain": [
       "<Figure size 432x288 with 1 Axes>"
      ]
     },
     "metadata": {
      "needs_background": "light"
     },
     "output_type": "display_data"
    }
   ],
   "source": [
    "sns.barplot(dose2[\"State/UTs\"][:5],dose2[\"Dose 2\"][:5])\n",
    "sns.barplot(dose2[\"State/UTs\"][:5],dose2[\"Dose 1\"][:5])"
   ]
  },
  {
   "cell_type": "code",
   "execution_count": 96,
   "metadata": {},
   "outputs": [
    {
     "data": {
      "text/plain": [
       "<matplotlib.legend.Legend at 0x4d7ccf0>"
      ]
     },
     "execution_count": 96,
     "metadata": {},
     "output_type": "execute_result"
    },
    {
     "data": {
      "image/png": "[encoded data removed]",
      "text/plain": [
       "<Figure size 432x288 with 1 Axes>"
      ]
     },
     "metadata": {
      "needs_background": "light"
     },
     "output_type": "display_data"
    }
   ],
   "source": [
    "l=[\"Dose 2\",\"Dose 1\"]\n",
    "sns.lineplot(dose2['State/UTs'][:15],dose2[\"Dose 2\"][:15])\n",
    "sns.lineplot(dose2['State/UTs'][:15],dose2[\"Dose 1\"][:15])\n",
    "plt.legend(l)"
   ]
  },
  {
   "cell_type": "code",
   "execution_count": 80,
   "metadata": {},
   "outputs": [],
   "source": [
    "dose1[\"D1_to_D2\"]=(\n",
    "dose1[\"Dose 1\"]/dose1[\"Dose 2\"]\n",
    ")"
   ]
  },
  {
   "cell_type": "code",
   "execution_count": 81,
   "metadata": {},
   "outputs": [
    {
     "data": {
      "text/html": [
       "<div>\n",
       "<style scoped>\n",
       "    .dataframe tbody tr th:only-of-type {\n",
       "        vertical-align: middle;\n",
       "    }\n",
       "\n",
       "    .dataframe tbody tr th {\n",
       "        vertical-align: top;\n",
       "    }\n",
       "\n",
       "    .dataframe thead th {\n",
       "        text-align: right;\n",
       "    }\n",
       "</style>\n",
       "<table border=\"1\" class=\"dataframe\">\n",
       "  <thead>\n",
       "    <tr style=\"text-align: right;\">\n",
       "      <th></th>\n",
       "      <th>State/UTs</th>\n",
       "      <th>Dose 1</th>\n",
       "      <th>Dose 2</th>\n",
       "      <th>Only_Dose 1</th>\n",
       "      <th>D1_to_D2</th>\n",
       "    </tr>\n",
       "  </thead>\n",
       "  <tbody>\n",
       "    <tr>\n",
       "      <th>33</th>\n",
       "      <td>Uttar Pradesh</td>\n",
       "      <td>69822355</td>\n",
       "      <td>13670519</td>\n",
       "      <td>83492874</td>\n",
       "      <td>5.107513</td>\n",
       "    </tr>\n",
       "    <tr>\n",
       "      <th>20</th>\n",
       "      <td>Maharashtra</td>\n",
       "      <td>47595826</td>\n",
       "      <td>17986150</td>\n",
       "      <td>65581976</td>\n",
       "      <td>2.646249</td>\n",
       "    </tr>\n",
       "    <tr>\n",
       "      <th>10</th>\n",
       "      <td>Gujarat</td>\n",
       "      <td>37390654</td>\n",
       "      <td>13482531</td>\n",
       "      <td>50873185</td>\n",
       "      <td>2.773267</td>\n",
       "    </tr>\n",
       "    <tr>\n",
       "      <th>19</th>\n",
       "      <td>Madhya Pradesh</td>\n",
       "      <td>40761568</td>\n",
       "      <td>9398499</td>\n",
       "      <td>50160067</td>\n",
       "      <td>4.337030</td>\n",
       "    </tr>\n",
       "    <tr>\n",
       "      <th>28</th>\n",
       "      <td>Rajasthan</td>\n",
       "      <td>36186863</td>\n",
       "      <td>12016323</td>\n",
       "      <td>48203186</td>\n",
       "      <td>3.011476</td>\n",
       "    </tr>\n",
       "  </tbody>\n",
       "</table>\n",
       "</div>"
      ],
      "text/plain": [
       "         State/UTs    Dose 1    Dose 2  Only_Dose 1  D1_to_D2\n",
       "33   Uttar Pradesh  69822355  13670519     83492874  5.107513\n",
       "20     Maharashtra  47595826  17986150     65581976  2.646249\n",
       "10         Gujarat  37390654  13482531     50873185  2.773267\n",
       "19  Madhya Pradesh  40761568   9398499     50160067  4.337030\n",
       "28       Rajasthan  36186863  12016323     48203186  3.011476"
      ]
     },
     "execution_count": 81,
     "metadata": {},
     "output_type": "execute_result"
    }
   ],
   "source": [
    "#Getting Data calculated per Dose1 to Dose2\n",
    "dose1.head()"
   ]
  },
  {
   "cell_type": "code",
   "execution_count": 82,
   "metadata": {},
   "outputs": [],
   "source": [
    "dose1.sort_values(\"D1_to_D2\",ascending=False,inplace=True)"
   ]
  },
  {
   "cell_type": "code",
   "execution_count": 83,
   "metadata": {},
   "outputs": [
    {
     "data": {
      "text/html": [
       "<div>\n",
       "<style scoped>\n",
       "    .dataframe tbody tr th:only-of-type {\n",
       "        vertical-align: middle;\n",
       "    }\n",
       "\n",
       "    .dataframe tbody tr th {\n",
       "        vertical-align: top;\n",
       "    }\n",
       "\n",
       "    .dataframe thead th {\n",
       "        text-align: right;\n",
       "    }\n",
       "</style>\n",
       "<table border=\"1\" class=\"dataframe\">\n",
       "  <thead>\n",
       "    <tr style=\"text-align: right;\">\n",
       "      <th></th>\n",
       "      <th>State/UTs</th>\n",
       "      <th>Dose 1</th>\n",
       "      <th>Dose 2</th>\n",
       "      <th>Only_Dose 1</th>\n",
       "      <th>D1_to_D2</th>\n",
       "    </tr>\n",
       "  </thead>\n",
       "  <tbody>\n",
       "    <tr>\n",
       "      <th>33</th>\n",
       "      <td>Uttar Pradesh</td>\n",
       "      <td>69822355</td>\n",
       "      <td>13670519</td>\n",
       "      <td>83492874</td>\n",
       "      <td>5.107513</td>\n",
       "    </tr>\n",
       "    <tr>\n",
       "      <th>4</th>\n",
       "      <td>Bihar</td>\n",
       "      <td>35540837</td>\n",
       "      <td>7387538</td>\n",
       "      <td>42928375</td>\n",
       "      <td>4.810918</td>\n",
       "    </tr>\n",
       "    <tr>\n",
       "      <th>3</th>\n",
       "      <td>Assam</td>\n",
       "      <td>15757069</td>\n",
       "      <td>3502138</td>\n",
       "      <td>19259207</td>\n",
       "      <td>4.499271</td>\n",
       "    </tr>\n",
       "    <tr>\n",
       "      <th>19</th>\n",
       "      <td>Madhya Pradesh</td>\n",
       "      <td>40761568</td>\n",
       "      <td>9398499</td>\n",
       "      <td>50160067</td>\n",
       "      <td>4.337030</td>\n",
       "    </tr>\n",
       "    <tr>\n",
       "      <th>30</th>\n",
       "      <td>Tamil Nadu</td>\n",
       "      <td>29020727</td>\n",
       "      <td>7344888</td>\n",
       "      <td>36365615</td>\n",
       "      <td>3.951146</td>\n",
       "    </tr>\n",
       "  </tbody>\n",
       "</table>\n",
       "</div>"
      ],
      "text/plain": [
       "         State/UTs    Dose 1    Dose 2  Only_Dose 1  D1_to_D2\n",
       "33   Uttar Pradesh  69822355  13670519     83492874  5.107513\n",
       "4            Bihar  35540837   7387538     42928375  4.810918\n",
       "3            Assam  15757069   3502138     19259207  4.499271\n",
       "19  Madhya Pradesh  40761568   9398499     50160067  4.337030\n",
       "30      Tamil Nadu  29020727   7344888     36365615  3.951146"
      ]
     },
     "execution_count": 83,
     "metadata": {},
     "output_type": "execute_result"
    }
   ],
   "source": [
    "dose1.head()"
   ]
  },
  {
   "cell_type": "code",
   "execution_count": 84,
   "metadata": {},
   "outputs": [
    {
     "data": {
      "text/plain": [
       "<matplotlib.axes._subplots.AxesSubplot at 0x4c236f0>"
      ]
     },
     "execution_count": 84,
     "metadata": {},
     "output_type": "execute_result"
    },
    {
     "data": {
      "image/png": "[encoded data removed]",
      "text/plain": [
       "<Figure size 432x288 with 1 Axes>"
      ]
     },
     "metadata": {
      "needs_background": "light"
     },
     "output_type": "display_data"
    }
   ],
   "source": [
    "sns.barplot(dose1[\"State/UTs\"][:5],dose1[\"D1_to_D2\"][:5])"
   ]
  },
  {
   "cell_type": "code",
   "execution_count": 89,
   "metadata": {},
   "outputs": [
    {
     "data": {
      "image/png": "[encoded data removed]",
      "text/plain": [
       "<Figure size 432x288 with 1 Axes>"
      ]
     },
     "metadata": {},
     "output_type": "display_data"
    }
   ],
   "source": [
    "plt.pie(dose1[\"D1_to_D2\"][:5],labels=dose1[\"State/UTs\"][:5],autopct=\"%1.1f%%\")\n",
    "plt.show()"
   ]
  },
  {
   "cell_type": "code",
   "execution_count": 85,
   "metadata": {},
   "outputs": [
    {
     "data": {
      "text/html": [
       "<div>\n",
       "<style scoped>\n",
       "    .dataframe tbody tr th:only-of-type {\n",
       "        vertical-align: middle;\n",
       "    }\n",
       "\n",
       "    .dataframe tbody tr th {\n",
       "        vertical-align: top;\n",
       "    }\n",
       "\n",
       "    .dataframe thead th {\n",
       "        text-align: right;\n",
       "    }\n",
       "</style>\n",
       "<table border=\"1\" class=\"dataframe\">\n",
       "  <thead>\n",
       "    <tr style=\"text-align: right;\">\n",
       "      <th></th>\n",
       "      <th>State/UTs</th>\n",
       "      <th>Dose 1</th>\n",
       "      <th>Dose 2</th>\n",
       "      <th>Only_Dose 1</th>\n",
       "      <th>D1_to_D2</th>\n",
       "    </tr>\n",
       "  </thead>\n",
       "  <tbody>\n",
       "    <tr>\n",
       "      <th>1</th>\n",
       "      <td>Andhra Pradesh</td>\n",
       "      <td>22780838</td>\n",
       "      <td>9478147</td>\n",
       "      <td>32258985</td>\n",
       "      <td>2.403512</td>\n",
       "    </tr>\n",
       "    <tr>\n",
       "      <th>29</th>\n",
       "      <td>Sikkim</td>\n",
       "      <td>509903</td>\n",
       "      <td>212380</td>\n",
       "      <td>722283</td>\n",
       "      <td>2.400899</td>\n",
       "    </tr>\n",
       "    <tr>\n",
       "      <th>0</th>\n",
       "      <td>Andaman and Nicobar</td>\n",
       "      <td>265589</td>\n",
       "      <td>110961</td>\n",
       "      <td>376550</td>\n",
       "      <td>2.393535</td>\n",
       "    </tr>\n",
       "    <tr>\n",
       "      <th>18</th>\n",
       "      <td>Lakshadweep</td>\n",
       "      <td>53191</td>\n",
       "      <td>28640</td>\n",
       "      <td>81831</td>\n",
       "      <td>1.857228</td>\n",
       "    </tr>\n",
       "    <tr>\n",
       "      <th>17</th>\n",
       "      <td>Ladakh</td>\n",
       "      <td>196554</td>\n",
       "      <td>115998</td>\n",
       "      <td>312552</td>\n",
       "      <td>1.694460</td>\n",
       "    </tr>\n",
       "  </tbody>\n",
       "</table>\n",
       "</div>"
      ],
      "text/plain": [
       "              State/UTs    Dose 1   Dose 2  Only_Dose 1  D1_to_D2\n",
       "1        Andhra Pradesh  22780838  9478147     32258985  2.403512\n",
       "29               Sikkim    509903   212380       722283  2.400899\n",
       "0   Andaman and Nicobar    265589   110961       376550  2.393535\n",
       "18          Lakshadweep     53191    28640        81831  1.857228\n",
       "17               Ladakh    196554   115998       312552  1.694460"
      ]
     },
     "execution_count": 85,
     "metadata": {},
     "output_type": "execute_result"
    }
   ],
   "source": [
    "dose1.tail()"
   ]
  },
  {
   "cell_type": "code",
   "execution_count": 87,
   "metadata": {},
   "outputs": [
    {
     "data": {
      "text/plain": [
       "<matplotlib.axes._subplots.AxesSubplot at 0x1056ef0>"
      ]
     },
     "execution_count": 87,
     "metadata": {},
     "output_type": "execute_result"
    },
    {
     "data": {
      "image/png": "[encoded data removed]",
      "text/plain": [
       "<Figure size 432x288 with 1 Axes>"
      ]
     },
     "metadata": {
      "needs_background": "light"
     },
     "output_type": "display_data"
    }
   ],
   "source": [
    "sns.barplot(dose1[\"State/UTs\"][31:36],dose1[\"D1_to_D2\"][31:36])"
   ]
  },
  {
   "cell_type": "code",
   "execution_count": 90,
   "metadata": {},
   "outputs": [
    {
     "data": {
      "image/png": "[encoded data removed]",
      "text/plain": [
       "<Figure size 432x288 with 1 Axes>"
      ]
     },
     "metadata": {},
     "output_type": "display_data"
    }
   ],
   "source": [
    "plt.pie(dose1[\"D1_to_D2\"][30:36],labels=dose1[\"State/UTs\"][30:36],autopct=\"%1.1f%%\")\n",
    "plt.show()"
   ]
  },
  {
   "cell_type": "code",
   "execution_count": 109,
   "metadata": {},
   "outputs": [
    {
     "data": {
      "image/png": "[encoded data removed]",
      "text/plain": [
       "<Figure size 432x288 with 1 Axes>"
      ]
     },
     "metadata": {},
     "output_type": "display_data"
    }
   ],
   "source": [
    "plt.pie(dose1[\"D1_to_D2\"][26:36],labels=dose1[\"State/UTs\"][26:36],autopct=\"%1.1f%%\",radius=4)\n",
    "plt.pie(dose1[\"D1_to_D2\"][16:26],labels=dose1[\"State/UTs\"][16:26],autopct=\"%1.1f%%\",radius=3)\n",
    "plt.pie(dose1[\"D1_to_D2\"][6:16],labels=dose1[\"State/UTs\"][6:16],autopct=\"%1.1f%%\",radius=2)\n",
    "plt.pie(dose1[\"D1_to_D2\"][:6],labels=dose1[\"State/UTs\"][:6],autopct=\"%1.1f%%\",radius=1)\n",
    "plt.pie([10],colors=[\"white\"],radius=0.5)\n",
    "plt.show()"
   ]
  },
  {
   "cell_type": "code",
   "execution_count": 97,
   "metadata": {},
   "outputs": [],
   "source": [
    "# getting total population vaccination ratio "
   ]
  },
  {
   "cell_type": "code",
   "execution_count": 98,
   "metadata": {},
   "outputs": [
    {
     "data": {
      "text/plain": [
       "Index(['State/UTs', 'Total Vaccination Doses', 'Dose 1', 'Dose 2',\n",
       "       'Population'],\n",
       "      dtype='object')"
      ]
     },
     "execution_count": 98,
     "metadata": {},
     "output_type": "execute_result"
    }
   ],
   "source": [
    "df.columns"
   ]
  },
  {
   "cell_type": "code",
   "execution_count": 99,
   "metadata": {},
   "outputs": [],
   "source": [
    "total=df[[\"State/UTs\",\"Total Vaccination Doses\",\"Population\"]]"
   ]
  },
  {
   "cell_type": "code",
   "execution_count": 100,
   "metadata": {},
   "outputs": [
    {
     "data": {
      "text/html": [
       "<div>\n",
       "<style scoped>\n",
       "    .dataframe tbody tr th:only-of-type {\n",
       "        vertical-align: middle;\n",
       "    }\n",
       "\n",
       "    .dataframe tbody tr th {\n",
       "        vertical-align: top;\n",
       "    }\n",
       "\n",
       "    .dataframe thead th {\n",
       "        text-align: right;\n",
       "    }\n",
       "</style>\n",
       "<table border=\"1\" class=\"dataframe\">\n",
       "  <thead>\n",
       "    <tr style=\"text-align: right;\">\n",
       "      <th></th>\n",
       "      <th>State/UTs</th>\n",
       "      <th>Total Vaccination Doses</th>\n",
       "      <th>Population</th>\n",
       "    </tr>\n",
       "  </thead>\n",
       "  <tbody>\n",
       "    <tr>\n",
       "      <th>0</th>\n",
       "      <td>Andaman and Nicobar</td>\n",
       "      <td>376550</td>\n",
       "      <td>399001</td>\n",
       "    </tr>\n",
       "    <tr>\n",
       "      <th>1</th>\n",
       "      <td>Andhra Pradesh</td>\n",
       "      <td>32258985</td>\n",
       "      <td>91702478</td>\n",
       "    </tr>\n",
       "    <tr>\n",
       "      <th>2</th>\n",
       "      <td>Arunachal Pradesh</td>\n",
       "      <td>1008283</td>\n",
       "      <td>1711947</td>\n",
       "    </tr>\n",
       "    <tr>\n",
       "      <th>3</th>\n",
       "      <td>Assam</td>\n",
       "      <td>19259207</td>\n",
       "      <td>35998752</td>\n",
       "    </tr>\n",
       "    <tr>\n",
       "      <th>4</th>\n",
       "      <td>Bihar</td>\n",
       "      <td>42928375</td>\n",
       "      <td>128500364</td>\n",
       "    </tr>\n",
       "  </tbody>\n",
       "</table>\n",
       "</div>"
      ],
      "text/plain": [
       "             State/UTs  Total Vaccination Doses  Population\n",
       "0  Andaman and Nicobar                   376550      399001\n",
       "1       Andhra Pradesh                 32258985    91702478\n",
       "2    Arunachal Pradesh                  1008283     1711947\n",
       "3                Assam                 19259207    35998752\n",
       "4                Bihar                 42928375   128500364"
      ]
     },
     "execution_count": 100,
     "metadata": {},
     "output_type": "execute_result"
    }
   ],
   "source": [
    "total.head()"
   ]
  },
  {
   "cell_type": "code",
   "execution_count": 102,
   "metadata": {},
   "outputs": [
    {
     "data": {
      "text/plain": [
       "<matplotlib.axes._subplots.AxesSubplot at 0x900a8f0>"
      ]
     },
     "execution_count": 102,
     "metadata": {},
     "output_type": "execute_result"
    },
    {
     "data": {
      "image/png": "[encoded data removed]",
      "text/plain": [
       "<Figure size 432x288 with 1 Axes>"
      ]
     },
     "metadata": {
      "needs_background": "light"
     },
     "output_type": "display_data"
    }
   ],
   "source": [
    "sns.scatterplot(total[\"Total Vaccination Doses\"],total[\"Population\"])"
   ]
  },
  {
   "cell_type": "code",
   "execution_count": 110,
   "metadata": {},
   "outputs": [
    {
     "name": "stderr",
     "output_type": "stream",
     "text": [
      "C:\\Users\\Lenovo\\andorid\\lib\\site-packages\\ipykernel_launcher.py:2: SettingWithCopyWarning: \n",
      "A value is trying to be set on a copy of a slice from a DataFrame.\n",
      "Try using .loc[row_indexer,col_indexer] = value instead\n",
      "\n",
      "See the caveats in the documentation: https://pandas.pydata.org/pandas-docs/stable/user_guide/indexing.html#returning-a-view-versus-a-copy\n",
      "  \n"
     ]
    }
   ],
   "source": [
    "total[\"Ava\"]=(\n",
    "total[\"Total Vaccination Doses\"]/total[\"Population\"]\n",
    ")"
   ]
  },
  {
   "cell_type": "code",
   "execution_count": 111,
   "metadata": {},
   "outputs": [
    {
     "data": {
      "text/html": [
       "<div>\n",
       "<style scoped>\n",
       "    .dataframe tbody tr th:only-of-type {\n",
       "        vertical-align: middle;\n",
       "    }\n",
       "\n",
       "    .dataframe tbody tr th {\n",
       "        vertical-align: top;\n",
       "    }\n",
       "\n",
       "    .dataframe thead th {\n",
       "        text-align: right;\n",
       "    }\n",
       "</style>\n",
       "<table border=\"1\" class=\"dataframe\">\n",
       "  <thead>\n",
       "    <tr style=\"text-align: right;\">\n",
       "      <th></th>\n",
       "      <th>State/UTs</th>\n",
       "      <th>Total Vaccination Doses</th>\n",
       "      <th>Population</th>\n",
       "      <th>Ava</th>\n",
       "    </tr>\n",
       "  </thead>\n",
       "  <tbody>\n",
       "    <tr>\n",
       "      <th>0</th>\n",
       "      <td>Andaman and Nicobar</td>\n",
       "      <td>376550</td>\n",
       "      <td>399001</td>\n",
       "      <td>0.943732</td>\n",
       "    </tr>\n",
       "    <tr>\n",
       "      <th>1</th>\n",
       "      <td>Andhra Pradesh</td>\n",
       "      <td>32258985</td>\n",
       "      <td>91702478</td>\n",
       "      <td>0.351779</td>\n",
       "    </tr>\n",
       "    <tr>\n",
       "      <th>2</th>\n",
       "      <td>Arunachal Pradesh</td>\n",
       "      <td>1008283</td>\n",
       "      <td>1711947</td>\n",
       "      <td>0.588969</td>\n",
       "    </tr>\n",
       "    <tr>\n",
       "      <th>3</th>\n",
       "      <td>Assam</td>\n",
       "      <td>19259207</td>\n",
       "      <td>35998752</td>\n",
       "      <td>0.534997</td>\n",
       "    </tr>\n",
       "    <tr>\n",
       "      <th>4</th>\n",
       "      <td>Bihar</td>\n",
       "      <td>42928375</td>\n",
       "      <td>128500364</td>\n",
       "      <td>0.334072</td>\n",
       "    </tr>\n",
       "  </tbody>\n",
       "</table>\n",
       "</div>"
      ],
      "text/plain": [
       "             State/UTs  Total Vaccination Doses  Population       Ava\n",
       "0  Andaman and Nicobar                   376550      399001  0.943732\n",
       "1       Andhra Pradesh                 32258985    91702478  0.351779\n",
       "2    Arunachal Pradesh                  1008283     1711947  0.588969\n",
       "3                Assam                 19259207    35998752  0.534997\n",
       "4                Bihar                 42928375   128500364  0.334072"
      ]
     },
     "execution_count": 111,
     "metadata": {},
     "output_type": "execute_result"
    }
   ],
   "source": [
    "total.head()"
   ]
  },
  {
   "cell_type": "code",
   "execution_count": 112,
   "metadata": {},
   "outputs": [
    {
     "name": "stderr",
     "output_type": "stream",
     "text": [
      "C:\\Users\\Lenovo\\andorid\\lib\\site-packages\\ipykernel_launcher.py:1: SettingWithCopyWarning: \n",
      "A value is trying to be set on a copy of a slice from a DataFrame\n",
      "\n",
      "See the caveats in the documentation: https://pandas.pydata.org/pandas-docs/stable/user_guide/indexing.html#returning-a-view-versus-a-copy\n",
      "  \"\"\"Entry point for launching an IPython kernel.\n"
     ]
    }
   ],
   "source": [
    "total.sort_values(\"Ava\",ascending=False,inplace=True)"
   ]
  },
  {
   "cell_type": "code",
   "execution_count": 113,
   "metadata": {},
   "outputs": [
    {
     "data": {
      "text/html": [
       "<div>\n",
       "<style scoped>\n",
       "    .dataframe tbody tr th:only-of-type {\n",
       "        vertical-align: middle;\n",
       "    }\n",
       "\n",
       "    .dataframe tbody tr th {\n",
       "        vertical-align: top;\n",
       "    }\n",
       "\n",
       "    .dataframe thead th {\n",
       "        text-align: right;\n",
       "    }\n",
       "</style>\n",
       "<table border=\"1\" class=\"dataframe\">\n",
       "  <thead>\n",
       "    <tr style=\"text-align: right;\">\n",
       "      <th></th>\n",
       "      <th>State/UTs</th>\n",
       "      <th>Total Vaccination Doses</th>\n",
       "      <th>Population</th>\n",
       "      <th>Ava</th>\n",
       "    </tr>\n",
       "  </thead>\n",
       "  <tbody>\n",
       "    <tr>\n",
       "      <th>18</th>\n",
       "      <td>Lakshadweep</td>\n",
       "      <td>81831</td>\n",
       "      <td>66001</td>\n",
       "      <td>1.239845</td>\n",
       "    </tr>\n",
       "    <tr>\n",
       "      <th>29</th>\n",
       "      <td>Sikkim</td>\n",
       "      <td>722283</td>\n",
       "      <td>658019</td>\n",
       "      <td>1.097663</td>\n",
       "    </tr>\n",
       "    <tr>\n",
       "      <th>9</th>\n",
       "      <td>Goa</td>\n",
       "      <td>1653475</td>\n",
       "      <td>1521992</td>\n",
       "      <td>1.086389</td>\n",
       "    </tr>\n",
       "    <tr>\n",
       "      <th>17</th>\n",
       "      <td>Ladakh</td>\n",
       "      <td>312552</td>\n",
       "      <td>290492</td>\n",
       "      <td>1.075940</td>\n",
       "    </tr>\n",
       "    <tr>\n",
       "      <th>7</th>\n",
       "      <td>Dadra and Nagar Haveli and Daman and Diu</td>\n",
       "      <td>795048</td>\n",
       "      <td>773997</td>\n",
       "      <td>1.027198</td>\n",
       "    </tr>\n",
       "  </tbody>\n",
       "</table>\n",
       "</div>"
      ],
      "text/plain": [
       "                                   State/UTs  Total Vaccination Doses  \\\n",
       "18                               Lakshadweep                    81831   \n",
       "29                                    Sikkim                   722283   \n",
       "9                                        Goa                  1653475   \n",
       "17                                    Ladakh                   312552   \n",
       "7   Dadra and Nagar Haveli and Daman and Diu                   795048   \n",
       "\n",
       "    Population       Ava  \n",
       "18       66001  1.239845  \n",
       "29      658019  1.097663  \n",
       "9      1521992  1.086389  \n",
       "17      290492  1.075940  \n",
       "7       773997  1.027198  "
      ]
     },
     "execution_count": 113,
     "metadata": {},
     "output_type": "execute_result"
    }
   ],
   "source": [
    "total.head()"
   ]
  },
  {
   "cell_type": "code",
   "execution_count": 114,
   "metadata": {},
   "outputs": [
    {
     "data": {
      "text/plain": [
       "0.6648078806506459"
      ]
     },
     "execution_count": 114,
     "metadata": {},
     "output_type": "execute_result"
    }
   ],
   "source": [
    "total[\"Ava\"].mean()"
   ]
  },
  {
   "cell_type": "code",
   "execution_count": 120,
   "metadata": {},
   "outputs": [
    {
     "data": {
      "text/html": [
       "<div>\n",
       "<style scoped>\n",
       "    .dataframe tbody tr th:only-of-type {\n",
       "        vertical-align: middle;\n",
       "    }\n",
       "\n",
       "    .dataframe tbody tr th {\n",
       "        vertical-align: top;\n",
       "    }\n",
       "\n",
       "    .dataframe thead th {\n",
       "        text-align: right;\n",
       "    }\n",
       "</style>\n",
       "<table border=\"1\" class=\"dataframe\">\n",
       "  <thead>\n",
       "    <tr style=\"text-align: right;\">\n",
       "      <th></th>\n",
       "      <th>State/UTs</th>\n",
       "      <th>Total Vaccination Doses</th>\n",
       "      <th>Population</th>\n",
       "      <th>Ava</th>\n",
       "    </tr>\n",
       "  </thead>\n",
       "  <tbody>\n",
       "    <tr>\n",
       "      <th>18</th>\n",
       "      <td>Lakshadweep</td>\n",
       "      <td>81831</td>\n",
       "      <td>66001</td>\n",
       "      <td>1.239845</td>\n",
       "    </tr>\n",
       "    <tr>\n",
       "      <th>29</th>\n",
       "      <td>Sikkim</td>\n",
       "      <td>722283</td>\n",
       "      <td>658019</td>\n",
       "      <td>1.097663</td>\n",
       "    </tr>\n",
       "    <tr>\n",
       "      <th>9</th>\n",
       "      <td>Goa</td>\n",
       "      <td>1653475</td>\n",
       "      <td>1521992</td>\n",
       "      <td>1.086389</td>\n",
       "    </tr>\n",
       "    <tr>\n",
       "      <th>17</th>\n",
       "      <td>Ladakh</td>\n",
       "      <td>312552</td>\n",
       "      <td>290492</td>\n",
       "      <td>1.075940</td>\n",
       "    </tr>\n",
       "    <tr>\n",
       "      <th>7</th>\n",
       "      <td>Dadra and Nagar Haveli and Daman and Diu</td>\n",
       "      <td>795048</td>\n",
       "      <td>773997</td>\n",
       "      <td>1.027198</td>\n",
       "    </tr>\n",
       "    <tr>\n",
       "      <th>5</th>\n",
       "      <td>Chandigarh</td>\n",
       "      <td>1180021</td>\n",
       "      <td>1158040</td>\n",
       "      <td>1.018981</td>\n",
       "    </tr>\n",
       "    <tr>\n",
       "      <th>12</th>\n",
       "      <td>Himachal Pradesh</td>\n",
       "      <td>7424999</td>\n",
       "      <td>7503010</td>\n",
       "      <td>0.989603</td>\n",
       "    </tr>\n",
       "    <tr>\n",
       "      <th>0</th>\n",
       "      <td>Andaman and Nicobar</td>\n",
       "      <td>376550</td>\n",
       "      <td>399001</td>\n",
       "      <td>0.943732</td>\n",
       "    </tr>\n",
       "    <tr>\n",
       "      <th>16</th>\n",
       "      <td>Kerala</td>\n",
       "      <td>30664417</td>\n",
       "      <td>34698876</td>\n",
       "      <td>0.883729</td>\n",
       "    </tr>\n",
       "    <tr>\n",
       "      <th>32</th>\n",
       "      <td>Tripura</td>\n",
       "      <td>3384487</td>\n",
       "      <td>4184959</td>\n",
       "      <td>0.808726</td>\n",
       "    </tr>\n",
       "    <tr>\n",
       "      <th>34</th>\n",
       "      <td>Uttarakhand</td>\n",
       "      <td>9129241</td>\n",
       "      <td>11700099</td>\n",
       "      <td>0.780270</td>\n",
       "    </tr>\n",
       "    <tr>\n",
       "      <th>8</th>\n",
       "      <td>Delhi</td>\n",
       "      <td>14585577</td>\n",
       "      <td>19301096</td>\n",
       "      <td>0.755686</td>\n",
       "    </tr>\n",
       "    <tr>\n",
       "      <th>23</th>\n",
       "      <td>Mizoram</td>\n",
       "      <td>950780</td>\n",
       "      <td>1308967</td>\n",
       "      <td>0.726359</td>\n",
       "    </tr>\n",
       "    <tr>\n",
       "      <th>10</th>\n",
       "      <td>Gujarat</td>\n",
       "      <td>50873185</td>\n",
       "      <td>70400153</td>\n",
       "      <td>0.722629</td>\n",
       "    </tr>\n",
       "    <tr>\n",
       "      <th>15</th>\n",
       "      <td>Karnataka</td>\n",
       "      <td>46855806</td>\n",
       "      <td>69599762</td>\n",
       "      <td>0.673218</td>\n",
       "    </tr>\n",
       "  </tbody>\n",
       "</table>\n",
       "</div>"
      ],
      "text/plain": [
       "                                   State/UTs  Total Vaccination Doses  \\\n",
       "18                               Lakshadweep                    81831   \n",
       "29                                    Sikkim                   722283   \n",
       "9                                        Goa                  1653475   \n",
       "17                                    Ladakh                   312552   \n",
       "7   Dadra and Nagar Haveli and Daman and Diu                   795048   \n",
       "5                                 Chandigarh                  1180021   \n",
       "12                          Himachal Pradesh                  7424999   \n",
       "0                        Andaman and Nicobar                   376550   \n",
       "16                                    Kerala                 30664417   \n",
       "32                                   Tripura                  3384487   \n",
       "34                               Uttarakhand                  9129241   \n",
       "8                                      Delhi                 14585577   \n",
       "23                                   Mizoram                   950780   \n",
       "10                                   Gujarat                 50873185   \n",
       "15                                 Karnataka                 46855806   \n",
       "\n",
       "    Population       Ava  \n",
       "18       66001  1.239845  \n",
       "29      658019  1.097663  \n",
       "9      1521992  1.086389  \n",
       "17      290492  1.075940  \n",
       "7       773997  1.027198  \n",
       "5      1158040  1.018981  \n",
       "12     7503010  0.989603  \n",
       "0       399001  0.943732  \n",
       "16    34698876  0.883729  \n",
       "32     4184959  0.808726  \n",
       "34    11700099  0.780270  \n",
       "8     19301096  0.755686  \n",
       "23     1308967  0.726359  \n",
       "10    70400153  0.722629  \n",
       "15    69599762  0.673218  "
      ]
     },
     "execution_count": 120,
     "metadata": {},
     "output_type": "execute_result"
    }
   ],
   "source": [
    "#Places Were vaccinated % of population is more than mean\n",
    "total[total[\"Ava\"]>total[\"Ava\"].mean()]"
   ]
  },
  {
   "cell_type": "code",
   "execution_count": 122,
   "metadata": {},
   "outputs": [
    {
     "data": {
      "text/plain": [
       "<matplotlib.axes._subplots.AxesSubplot at 0xcb6bad0>"
      ]
     },
     "execution_count": 122,
     "metadata": {},
     "output_type": "execute_result"
    },
    {
     "data": {
      "image/png": "[encoded data removed]",
      "text/plain": [
       "<Figure size 432x288 with 1 Axes>"
      ]
     },
     "metadata": {
      "needs_background": "light"
     },
     "output_type": "display_data"
    }
   ],
   "source": [
    "sns.barplot(total[\"State/UTs\"][:5],total[\"Ava\"][:5])\n"
   ]
  },
  {
   "cell_type": "code",
   "execution_count": 123,
   "metadata": {},
   "outputs": [
    {
     "data": {
      "text/plain": [
       "<matplotlib.axes._subplots.AxesSubplot at 0xcbb64d0>"
      ]
     },
     "execution_count": 123,
     "metadata": {},
     "output_type": "execute_result"
    },
    {
     "data": {
      "image/png": "[encoded data removed]",
      "text/plain": [
       "<Figure size 432x288 with 1 Axes>"
      ]
     },
     "metadata": {
      "needs_background": "light"
     },
     "output_type": "display_data"
    }
   ],
   "source": [
    "sns.barplot(total[\"State/UTs\"][30:36],total[\"Ava\"][30:36])"
   ]
  },
  {
   "cell_type": "code",
   "execution_count": null,
   "metadata": {},
   "outputs": [],
   "source": []
  }
 ],
 "metadata": {
  "kernelspec": {
   "display_name": "Python 3",
   "language": "python",
   "name": "python3"
  },
  "language_info": {
   "codemirror_mode": {
    "name": "ipython",
    "version": 3
   },
   "file_extension": ".py",
   "mimetype": "text/x-python",
   "name": "python",
   "nbconvert_exporter": "python",
   "pygments_lexer": "ipython3",
   "version": "3.7.6"
  }
 },
 "nbformat": 4,
 "nbformat_minor": 4
}
